{
 "cells": [
  {
   "cell_type": "code",
   "execution_count": 1,
   "metadata": {
    "scrolled": true
   },
   "outputs": [
    {
     "name": "stderr",
     "output_type": "stream",
     "text": [
      "Using TensorFlow backend.\n"
     ]
    }
   ],
   "source": [
    "import pandas as pd\n",
    "import matplotlib.pyplot as plt\n",
    "import matplotlib as mpl\n",
    "from mpl_toolkits.mplot3d import Axes3D\n",
    "import seaborn as sns\n",
    "import numpy as np\n",
    "from tqdm import tqdm\n",
    "import dask.dataframe as dd\n",
    "\n",
    "from keras.models import Sequential\n",
    "from keras.layers.core import Dense, Activation, Dropout, Flatten\n",
    "from keras.layers import TimeDistributed\n",
    "from keras.layers.recurrent import LSTM\n",
    "from keras.layers import Dense, Conv1D, MaxPool2D, Flatten, Dropout, GRU, CuDNNLSTM\n",
    "from keras.callbacks import EarlyStopping, TensorBoard, ModelCheckpoint\n",
    "from keras.layers.normalization import BatchNormalization\n",
    "from keras.optimizers import Adam, SGD, Nadam\n",
    "from time import time\n",
    "from livelossplot import PlotLossesKeras\n",
    "from keras.layers.advanced_activations import LeakyReLU, PReLU\n",
    "import tensorflow as tf\n",
    "from keras.utils import multi_gpu_model\n",
    "from tensorflow.python.client import device_lib\n",
    "from sklearn.preprocessing import StandardScaler"
   ]
  },
  {
   "cell_type": "code",
   "execution_count": 2,
   "metadata": {},
   "outputs": [],
   "source": [
    "# Load data\n",
    "df01 =  pd.read_csv(\"cleansed_date01.csv\")\n",
    "pd.options.display.max_columns = None"
   ]
  },
  {
   "cell_type": "code",
   "execution_count": 3,
   "metadata": {
    "scrolled": true
   },
   "outputs": [
    {
     "data": {
      "text/html": [
       "<div>\n",
       "<style scoped>\n",
       "    .dataframe tbody tr th:only-of-type {\n",
       "        vertical-align: middle;\n",
       "    }\n",
       "\n",
       "    .dataframe tbody tr th {\n",
       "        vertical-align: top;\n",
       "    }\n",
       "\n",
       "    .dataframe thead th {\n",
       "        text-align: right;\n",
       "    }\n",
       "</style>\n",
       "<table border=\"1\" class=\"dataframe\">\n",
       "  <thead>\n",
       "    <tr style=\"text-align: right;\">\n",
       "      <th></th>\n",
       "      <th>Transaction Date</th>\n",
       "      <th>ATM Name</th>\n",
       "      <th>No Of Withdrawals</th>\n",
       "      <th>No Of XYZ Card Withdrawals</th>\n",
       "      <th>No Of Other Card Withdrawals</th>\n",
       "      <th>Total amount Withdrawn</th>\n",
       "      <th>Amount withdrawn XYZ Card</th>\n",
       "      <th>Amount withdrawn Other Card</th>\n",
       "      <th>Weekday</th>\n",
       "      <th>Festival Religion</th>\n",
       "      <th>Working Day</th>\n",
       "      <th>Holiday Sequence</th>\n",
       "    </tr>\n",
       "  </thead>\n",
       "  <tbody>\n",
       "    <tr>\n",
       "      <td>0</td>\n",
       "      <td>2011-01-01</td>\n",
       "      <td>Mount Road ATM</td>\n",
       "      <td>253</td>\n",
       "      <td>67</td>\n",
       "      <td>186</td>\n",
       "      <td>767900</td>\n",
       "      <td>270900</td>\n",
       "      <td>497000</td>\n",
       "      <td>Saturday</td>\n",
       "      <td>C</td>\n",
       "      <td>H</td>\n",
       "      <td>WHH</td>\n",
       "    </tr>\n",
       "    <tr>\n",
       "      <td>1</td>\n",
       "      <td>2011-01-01</td>\n",
       "      <td>Big Street ATM</td>\n",
       "      <td>50</td>\n",
       "      <td>20</td>\n",
       "      <td>30</td>\n",
       "      <td>123800</td>\n",
       "      <td>41700</td>\n",
       "      <td>82100</td>\n",
       "      <td>Saturday</td>\n",
       "      <td>H</td>\n",
       "      <td>H</td>\n",
       "      <td>WHH</td>\n",
       "    </tr>\n",
       "    <tr>\n",
       "      <td>2</td>\n",
       "      <td>2011-01-01</td>\n",
       "      <td>Airport ATM</td>\n",
       "      <td>98</td>\n",
       "      <td>56</td>\n",
       "      <td>42</td>\n",
       "      <td>503400</td>\n",
       "      <td>347700</td>\n",
       "      <td>155700</td>\n",
       "      <td>Saturday</td>\n",
       "      <td>C</td>\n",
       "      <td>H</td>\n",
       "      <td>WHH</td>\n",
       "    </tr>\n",
       "    <tr>\n",
       "      <td>3</td>\n",
       "      <td>2011-01-01</td>\n",
       "      <td>KK Nagar ATM</td>\n",
       "      <td>265</td>\n",
       "      <td>159</td>\n",
       "      <td>106</td>\n",
       "      <td>945300</td>\n",
       "      <td>532600</td>\n",
       "      <td>412700</td>\n",
       "      <td>Saturday</td>\n",
       "      <td>C</td>\n",
       "      <td>H</td>\n",
       "      <td>WHH</td>\n",
       "    </tr>\n",
       "    <tr>\n",
       "      <td>4</td>\n",
       "      <td>2011-01-01</td>\n",
       "      <td>Christ College ATM</td>\n",
       "      <td>74</td>\n",
       "      <td>25</td>\n",
       "      <td>49</td>\n",
       "      <td>287700</td>\n",
       "      <td>148200</td>\n",
       "      <td>139500</td>\n",
       "      <td>Saturday</td>\n",
       "      <td>C</td>\n",
       "      <td>H</td>\n",
       "      <td>WHH</td>\n",
       "    </tr>\n",
       "    <tr>\n",
       "      <td>...</td>\n",
       "      <td>...</td>\n",
       "      <td>...</td>\n",
       "      <td>...</td>\n",
       "      <td>...</td>\n",
       "      <td>...</td>\n",
       "      <td>...</td>\n",
       "      <td>...</td>\n",
       "      <td>...</td>\n",
       "      <td>...</td>\n",
       "      <td>...</td>\n",
       "      <td>...</td>\n",
       "      <td>...</td>\n",
       "    </tr>\n",
       "    <tr>\n",
       "      <td>11584</td>\n",
       "      <td>2017-09-29</td>\n",
       "      <td>Airport ATM</td>\n",
       "      <td>117</td>\n",
       "      <td>77</td>\n",
       "      <td>40</td>\n",
       "      <td>709900</td>\n",
       "      <td>576800</td>\n",
       "      <td>133100</td>\n",
       "      <td>FRIDAY</td>\n",
       "      <td>H</td>\n",
       "      <td>H</td>\n",
       "      <td>WHH</td>\n",
       "    </tr>\n",
       "    <tr>\n",
       "      <td>11585</td>\n",
       "      <td>2017-09-29</td>\n",
       "      <td>Christ College ATM</td>\n",
       "      <td>143</td>\n",
       "      <td>61</td>\n",
       "      <td>82</td>\n",
       "      <td>700400</td>\n",
       "      <td>364200</td>\n",
       "      <td>336200</td>\n",
       "      <td>FRIDAY</td>\n",
       "      <td>H</td>\n",
       "      <td>H</td>\n",
       "      <td>WHH</td>\n",
       "    </tr>\n",
       "    <tr>\n",
       "      <td>11586</td>\n",
       "      <td>2017-09-29</td>\n",
       "      <td>Big Street ATM</td>\n",
       "      <td>137</td>\n",
       "      <td>34</td>\n",
       "      <td>103</td>\n",
       "      <td>468800</td>\n",
       "      <td>146200</td>\n",
       "      <td>322600</td>\n",
       "      <td>FRIDAY</td>\n",
       "      <td>H</td>\n",
       "      <td>H</td>\n",
       "      <td>WHH</td>\n",
       "    </tr>\n",
       "    <tr>\n",
       "      <td>11587</td>\n",
       "      <td>2017-09-29</td>\n",
       "      <td>Mount Road ATM</td>\n",
       "      <td>79</td>\n",
       "      <td>27</td>\n",
       "      <td>52</td>\n",
       "      <td>305100</td>\n",
       "      <td>172500</td>\n",
       "      <td>132600</td>\n",
       "      <td>FRIDAY</td>\n",
       "      <td>H</td>\n",
       "      <td>H</td>\n",
       "      <td>WHH</td>\n",
       "    </tr>\n",
       "    <tr>\n",
       "      <td>11588</td>\n",
       "      <td>2017-09-29</td>\n",
       "      <td>KK Nagar ATM</td>\n",
       "      <td>76</td>\n",
       "      <td>48</td>\n",
       "      <td>28</td>\n",
       "      <td>408700</td>\n",
       "      <td>279900</td>\n",
       "      <td>128800</td>\n",
       "      <td>FRIDAY</td>\n",
       "      <td>H</td>\n",
       "      <td>H</td>\n",
       "      <td>WHH</td>\n",
       "    </tr>\n",
       "  </tbody>\n",
       "</table>\n",
       "<p>11589 rows × 12 columns</p>\n",
       "</div>"
      ],
      "text/plain": [
       "      Transaction Date            ATM Name  No Of Withdrawals  \\\n",
       "0           2011-01-01      Mount Road ATM                253   \n",
       "1           2011-01-01      Big Street ATM                 50   \n",
       "2           2011-01-01         Airport ATM                 98   \n",
       "3           2011-01-01        KK Nagar ATM                265   \n",
       "4           2011-01-01  Christ College ATM                 74   \n",
       "...                ...                 ...                ...   \n",
       "11584       2017-09-29         Airport ATM                117   \n",
       "11585       2017-09-29  Christ College ATM                143   \n",
       "11586       2017-09-29      Big Street ATM                137   \n",
       "11587       2017-09-29      Mount Road ATM                 79   \n",
       "11588       2017-09-29        KK Nagar ATM                 76   \n",
       "\n",
       "       No Of XYZ Card Withdrawals  No Of Other Card Withdrawals  \\\n",
       "0                              67                           186   \n",
       "1                              20                            30   \n",
       "2                              56                            42   \n",
       "3                             159                           106   \n",
       "4                              25                            49   \n",
       "...                           ...                           ...   \n",
       "11584                          77                            40   \n",
       "11585                          61                            82   \n",
       "11586                          34                           103   \n",
       "11587                          27                            52   \n",
       "11588                          48                            28   \n",
       "\n",
       "       Total amount Withdrawn  Amount withdrawn XYZ Card  \\\n",
       "0                      767900                     270900   \n",
       "1                      123800                      41700   \n",
       "2                      503400                     347700   \n",
       "3                      945300                     532600   \n",
       "4                      287700                     148200   \n",
       "...                       ...                        ...   \n",
       "11584                  709900                     576800   \n",
       "11585                  700400                     364200   \n",
       "11586                  468800                     146200   \n",
       "11587                  305100                     172500   \n",
       "11588                  408700                     279900   \n",
       "\n",
       "       Amount withdrawn Other Card   Weekday Festival Religion Working Day  \\\n",
       "0                           497000  Saturday                 C           H   \n",
       "1                            82100  Saturday                 H           H   \n",
       "2                           155700  Saturday                 C           H   \n",
       "3                           412700  Saturday                 C           H   \n",
       "4                           139500  Saturday                 C           H   \n",
       "...                            ...       ...               ...         ...   \n",
       "11584                       133100    FRIDAY                 H           H   \n",
       "11585                       336200    FRIDAY                 H           H   \n",
       "11586                       322600    FRIDAY                 H           H   \n",
       "11587                       132600    FRIDAY                 H           H   \n",
       "11588                       128800    FRIDAY                 H           H   \n",
       "\n",
       "      Holiday Sequence  \n",
       "0                  WHH  \n",
       "1                  WHH  \n",
       "2                  WHH  \n",
       "3                  WHH  \n",
       "4                  WHH  \n",
       "...                ...  \n",
       "11584              WHH  \n",
       "11585              WHH  \n",
       "11586              WHH  \n",
       "11587              WHH  \n",
       "11588              WHH  \n",
       "\n",
       "[11589 rows x 12 columns]"
      ]
     },
     "execution_count": 3,
     "metadata": {},
     "output_type": "execute_result"
    }
   ],
   "source": [
    "df01"
   ]
  },
  {
   "cell_type": "code",
   "execution_count": 4,
   "metadata": {},
   "outputs": [],
   "source": [
    "# Convert Transaction Date into Date form\n",
    "df01['Transaction Date'] = pd.to_datetime(df01['Transaction Date'], infer_datetime_format=True)"
   ]
  },
  {
   "cell_type": "code",
   "execution_count": 5,
   "metadata": {},
   "outputs": [],
   "source": [
    "df01 = df01[(df01[\"ATM Name\"]==\"Big Street ATM\")]"
   ]
  },
  {
   "cell_type": "code",
   "execution_count": 6,
   "metadata": {},
   "outputs": [],
   "source": [
    "df01 = df01.drop('ATM Name', 1)"
   ]
  },
  {
   "cell_type": "code",
   "execution_count": 7,
   "metadata": {},
   "outputs": [],
   "source": [
    "df01[\"Weekday\"] = df01[\"Weekday\"].replace({\"Saturday\": \"SATURDAY\"})\n",
    "df01[\"Weekday\"] = df01[\"Weekday\"].replace({\"Monday\": \"MONDAY\"})\n",
    "df01[\"Weekday\"] = df01[\"Weekday\"].replace({\"Tuesday\": \"TUESDAY\"})\n",
    "df01[\"Weekday\"] = df01[\"Weekday\"].replace({\"Wednesday\": \"WEDNESDAY\"})\n",
    "df01[\"Weekday\"] = df01[\"Weekday\"].replace({\"Thursday\": \"THURSDAY\"})\n",
    "df01[\"Weekday\"] = df01[\"Weekday\"].replace({\"Friday\": \"FRIDAY\"})\n",
    "df01[\"Weekday\"] = df01[\"Weekday\"].replace({\"Sunday\": \"SUNDAY\"})"
   ]
  },
  {
   "cell_type": "code",
   "execution_count": 8,
   "metadata": {},
   "outputs": [
    {
     "data": {
      "text/plain": [
       "SUNDAY       549\n",
       "SATURDAY     334\n",
       "TUESDAY      305\n",
       "MONDAY       295\n",
       "WEDNESDAY    294\n",
       "THURSDAY     289\n",
       "FRIDAY       288\n",
       "Name: Weekday, dtype: int64"
      ]
     },
     "execution_count": 8,
     "metadata": {},
     "output_type": "execute_result"
    }
   ],
   "source": [
    "df01[\"Weekday\"].value_counts()"
   ]
  },
  {
   "cell_type": "code",
   "execution_count": 9,
   "metadata": {},
   "outputs": [],
   "source": [
    "# Transnform date into index\n",
    "data = df01.drop(['Transaction Date'], axis=1)\n",
    "data.index = df01[\"Transaction Date\"]"
   ]
  },
  {
   "cell_type": "code",
   "execution_count": 10,
   "metadata": {},
   "outputs": [],
   "source": [
    "data = data.sort_index()"
   ]
  },
  {
   "cell_type": "code",
   "execution_count": 11,
   "metadata": {},
   "outputs": [],
   "source": [
    "df01 = data"
   ]
  },
  {
   "cell_type": "code",
   "execution_count": 12,
   "metadata": {},
   "outputs": [],
   "source": [
    "from sklearn import preprocessing\n",
    "le = preprocessing.LabelEncoder()"
   ]
  },
  {
   "cell_type": "code",
   "execution_count": 13,
   "metadata": {},
   "outputs": [],
   "source": [
    "df01['Weekday'] = le.fit_transform(df01['Weekday'])"
   ]
  },
  {
   "cell_type": "code",
   "execution_count": 14,
   "metadata": {},
   "outputs": [],
   "source": [
    "df01['Festival Religion'] = le.fit_transform(df01['Festival Religion'])"
   ]
  },
  {
   "cell_type": "code",
   "execution_count": 15,
   "metadata": {},
   "outputs": [],
   "source": [
    "df01['Working Day'] = le.fit_transform(df01['Working Day'])"
   ]
  },
  {
   "cell_type": "code",
   "execution_count": 16,
   "metadata": {},
   "outputs": [],
   "source": [
    "df01['Holiday Sequence'] = le.fit_transform(df01['Holiday Sequence'])"
   ]
  },
  {
   "cell_type": "code",
   "execution_count": 17,
   "metadata": {
    "scrolled": true
   },
   "outputs": [
    {
     "data": {
      "text/html": [
       "<div>\n",
       "<style scoped>\n",
       "    .dataframe tbody tr th:only-of-type {\n",
       "        vertical-align: middle;\n",
       "    }\n",
       "\n",
       "    .dataframe tbody tr th {\n",
       "        vertical-align: top;\n",
       "    }\n",
       "\n",
       "    .dataframe thead th {\n",
       "        text-align: right;\n",
       "    }\n",
       "</style>\n",
       "<table border=\"1\" class=\"dataframe\">\n",
       "  <thead>\n",
       "    <tr style=\"text-align: right;\">\n",
       "      <th></th>\n",
       "      <th>No Of Withdrawals</th>\n",
       "      <th>No Of XYZ Card Withdrawals</th>\n",
       "      <th>No Of Other Card Withdrawals</th>\n",
       "      <th>Total amount Withdrawn</th>\n",
       "      <th>Amount withdrawn XYZ Card</th>\n",
       "      <th>Amount withdrawn Other Card</th>\n",
       "      <th>Weekday</th>\n",
       "      <th>Festival Religion</th>\n",
       "      <th>Working Day</th>\n",
       "      <th>Holiday Sequence</th>\n",
       "    </tr>\n",
       "    <tr>\n",
       "      <th>Transaction Date</th>\n",
       "      <th></th>\n",
       "      <th></th>\n",
       "      <th></th>\n",
       "      <th></th>\n",
       "      <th></th>\n",
       "      <th></th>\n",
       "      <th></th>\n",
       "      <th></th>\n",
       "      <th></th>\n",
       "      <th></th>\n",
       "    </tr>\n",
       "  </thead>\n",
       "  <tbody>\n",
       "    <tr>\n",
       "      <td>2011-01-01</td>\n",
       "      <td>50</td>\n",
       "      <td>20</td>\n",
       "      <td>30</td>\n",
       "      <td>123800</td>\n",
       "      <td>41700</td>\n",
       "      <td>82100</td>\n",
       "      <td>2</td>\n",
       "      <td>1</td>\n",
       "      <td>0</td>\n",
       "      <td>4</td>\n",
       "    </tr>\n",
       "    <tr>\n",
       "      <td>2011-01-02</td>\n",
       "      <td>17</td>\n",
       "      <td>5</td>\n",
       "      <td>12</td>\n",
       "      <td>52800</td>\n",
       "      <td>20900</td>\n",
       "      <td>31900</td>\n",
       "      <td>3</td>\n",
       "      <td>4</td>\n",
       "      <td>0</td>\n",
       "      <td>1</td>\n",
       "    </tr>\n",
       "    <tr>\n",
       "      <td>2011-01-03</td>\n",
       "      <td>24</td>\n",
       "      <td>21</td>\n",
       "      <td>3</td>\n",
       "      <td>88100</td>\n",
       "      <td>77100</td>\n",
       "      <td>11000</td>\n",
       "      <td>1</td>\n",
       "      <td>4</td>\n",
       "      <td>1</td>\n",
       "      <td>7</td>\n",
       "    </tr>\n",
       "    <tr>\n",
       "      <td>2011-01-04</td>\n",
       "      <td>34</td>\n",
       "      <td>12</td>\n",
       "      <td>22</td>\n",
       "      <td>101600</td>\n",
       "      <td>51200</td>\n",
       "      <td>50400</td>\n",
       "      <td>5</td>\n",
       "      <td>4</td>\n",
       "      <td>1</td>\n",
       "      <td>7</td>\n",
       "    </tr>\n",
       "    <tr>\n",
       "      <td>2011-01-05</td>\n",
       "      <td>30</td>\n",
       "      <td>14</td>\n",
       "      <td>16</td>\n",
       "      <td>98000</td>\n",
       "      <td>52700</td>\n",
       "      <td>45300</td>\n",
       "      <td>6</td>\n",
       "      <td>4</td>\n",
       "      <td>1</td>\n",
       "      <td>7</td>\n",
       "    </tr>\n",
       "    <tr>\n",
       "      <td>...</td>\n",
       "      <td>...</td>\n",
       "      <td>...</td>\n",
       "      <td>...</td>\n",
       "      <td>...</td>\n",
       "      <td>...</td>\n",
       "      <td>...</td>\n",
       "      <td>...</td>\n",
       "      <td>...</td>\n",
       "      <td>...</td>\n",
       "      <td>...</td>\n",
       "    </tr>\n",
       "    <tr>\n",
       "      <td>2017-09-25</td>\n",
       "      <td>122</td>\n",
       "      <td>41</td>\n",
       "      <td>81</td>\n",
       "      <td>513800</td>\n",
       "      <td>283000</td>\n",
       "      <td>230800</td>\n",
       "      <td>1</td>\n",
       "      <td>4</td>\n",
       "      <td>1</td>\n",
       "      <td>3</td>\n",
       "    </tr>\n",
       "    <tr>\n",
       "      <td>2017-09-26</td>\n",
       "      <td>131</td>\n",
       "      <td>36</td>\n",
       "      <td>95</td>\n",
       "      <td>437400</td>\n",
       "      <td>162700</td>\n",
       "      <td>274700</td>\n",
       "      <td>5</td>\n",
       "      <td>4</td>\n",
       "      <td>1</td>\n",
       "      <td>7</td>\n",
       "    </tr>\n",
       "    <tr>\n",
       "      <td>2017-09-27</td>\n",
       "      <td>130</td>\n",
       "      <td>40</td>\n",
       "      <td>90</td>\n",
       "      <td>511200</td>\n",
       "      <td>215000</td>\n",
       "      <td>296200</td>\n",
       "      <td>6</td>\n",
       "      <td>4</td>\n",
       "      <td>1</td>\n",
       "      <td>7</td>\n",
       "    </tr>\n",
       "    <tr>\n",
       "      <td>2017-09-28</td>\n",
       "      <td>137</td>\n",
       "      <td>41</td>\n",
       "      <td>96</td>\n",
       "      <td>468600</td>\n",
       "      <td>221800</td>\n",
       "      <td>246800</td>\n",
       "      <td>4</td>\n",
       "      <td>4</td>\n",
       "      <td>1</td>\n",
       "      <td>6</td>\n",
       "    </tr>\n",
       "    <tr>\n",
       "      <td>2017-09-29</td>\n",
       "      <td>137</td>\n",
       "      <td>34</td>\n",
       "      <td>103</td>\n",
       "      <td>468800</td>\n",
       "      <td>146200</td>\n",
       "      <td>322600</td>\n",
       "      <td>0</td>\n",
       "      <td>1</td>\n",
       "      <td>0</td>\n",
       "      <td>4</td>\n",
       "    </tr>\n",
       "  </tbody>\n",
       "</table>\n",
       "<p>2354 rows × 10 columns</p>\n",
       "</div>"
      ],
      "text/plain": [
       "                  No Of Withdrawals  No Of XYZ Card Withdrawals  \\\n",
       "Transaction Date                                                  \n",
       "2011-01-01                       50                          20   \n",
       "2011-01-02                       17                           5   \n",
       "2011-01-03                       24                          21   \n",
       "2011-01-04                       34                          12   \n",
       "2011-01-05                       30                          14   \n",
       "...                             ...                         ...   \n",
       "2017-09-25                      122                          41   \n",
       "2017-09-26                      131                          36   \n",
       "2017-09-27                      130                          40   \n",
       "2017-09-28                      137                          41   \n",
       "2017-09-29                      137                          34   \n",
       "\n",
       "                  No Of Other Card Withdrawals  Total amount Withdrawn  \\\n",
       "Transaction Date                                                         \n",
       "2011-01-01                                  30                  123800   \n",
       "2011-01-02                                  12                   52800   \n",
       "2011-01-03                                   3                   88100   \n",
       "2011-01-04                                  22                  101600   \n",
       "2011-01-05                                  16                   98000   \n",
       "...                                        ...                     ...   \n",
       "2017-09-25                                  81                  513800   \n",
       "2017-09-26                                  95                  437400   \n",
       "2017-09-27                                  90                  511200   \n",
       "2017-09-28                                  96                  468600   \n",
       "2017-09-29                                 103                  468800   \n",
       "\n",
       "                  Amount withdrawn XYZ Card  Amount withdrawn Other Card  \\\n",
       "Transaction Date                                                           \n",
       "2011-01-01                            41700                        82100   \n",
       "2011-01-02                            20900                        31900   \n",
       "2011-01-03                            77100                        11000   \n",
       "2011-01-04                            51200                        50400   \n",
       "2011-01-05                            52700                        45300   \n",
       "...                                     ...                          ...   \n",
       "2017-09-25                           283000                       230800   \n",
       "2017-09-26                           162700                       274700   \n",
       "2017-09-27                           215000                       296200   \n",
       "2017-09-28                           221800                       246800   \n",
       "2017-09-29                           146200                       322600   \n",
       "\n",
       "                  Weekday  Festival Religion  Working Day  Holiday Sequence  \n",
       "Transaction Date                                                             \n",
       "2011-01-01              2                  1            0                 4  \n",
       "2011-01-02              3                  4            0                 1  \n",
       "2011-01-03              1                  4            1                 7  \n",
       "2011-01-04              5                  4            1                 7  \n",
       "2011-01-05              6                  4            1                 7  \n",
       "...                   ...                ...          ...               ...  \n",
       "2017-09-25              1                  4            1                 3  \n",
       "2017-09-26              5                  4            1                 7  \n",
       "2017-09-27              6                  4            1                 7  \n",
       "2017-09-28              4                  4            1                 6  \n",
       "2017-09-29              0                  1            0                 4  \n",
       "\n",
       "[2354 rows x 10 columns]"
      ]
     },
     "execution_count": 17,
     "metadata": {},
     "output_type": "execute_result"
    }
   ],
   "source": [
    "df01"
   ]
  },
  {
   "cell_type": "code",
   "execution_count": 18,
   "metadata": {},
   "outputs": [],
   "source": [
    "data = df01"
   ]
  },
  {
   "cell_type": "code",
   "execution_count": 19,
   "metadata": {},
   "outputs": [
    {
     "data": {
      "text/plain": [
       "<matplotlib.axes._subplots.AxesSubplot at 0x1bfc0308208>"
      ]
     },
     "execution_count": 19,
     "metadata": {},
     "output_type": "execute_result"
    },
    {
     "data": {
      "image/png": "[encoded data removed]",
      "text/plain": [
       "<Figure size 432x288 with 1 Axes>"
      ]
     },
     "metadata": {
      "needs_background": "light"
     },
     "output_type": "display_data"
    }
   ],
   "source": [
    "data[\"Total amount Withdrawn\"].plot()"
   ]
  },
  {
   "cell_type": "code",
   "execution_count": 20,
   "metadata": {},
   "outputs": [],
   "source": [
    "data01 = data.copy()"
   ]
  },
  {
   "cell_type": "code",
   "execution_count": 21,
   "metadata": {},
   "outputs": [
    {
     "data": {
      "text/plain": [
       "1    1342\n",
       "0    1012\n",
       "Name: Working Day, dtype: int64"
      ]
     },
     "execution_count": 21,
     "metadata": {},
     "output_type": "execute_result"
    }
   ],
   "source": [
    "data01[\"Working Day\"].value_counts()"
   ]
  },
  {
   "cell_type": "code",
   "execution_count": 22,
   "metadata": {},
   "outputs": [],
   "source": [
    "columns_to_category = ['Weekday', 'Festival Religion', 'Working Day', 'Holiday Sequence']\n",
    "data01[columns_to_category] = data01[columns_to_category].astype('category') # change datetypes to category"
   ]
  },
  {
   "cell_type": "code",
   "execution_count": 23,
   "metadata": {},
   "outputs": [
    {
     "data": {
      "text/plain": [
       "No Of Withdrawals                  int64\n",
       "No Of XYZ Card Withdrawals         int64\n",
       "No Of Other Card Withdrawals       int64\n",
       "Total amount Withdrawn             int64\n",
       "Amount withdrawn XYZ Card          int64\n",
       "Amount withdrawn Other Card        int64\n",
       "Weekday                         category\n",
       "Festival Religion               category\n",
       "Working Day                     category\n",
       "Holiday Sequence                category\n",
       "dtype: object"
      ]
     },
     "execution_count": 23,
     "metadata": {},
     "output_type": "execute_result"
    }
   ],
   "source": [
    "data01.dtypes[:]"
   ]
  },
  {
   "cell_type": "code",
   "execution_count": 24,
   "metadata": {},
   "outputs": [
    {
     "data": {
      "text/html": [
       "<div>\n",
       "<style scoped>\n",
       "    .dataframe tbody tr th:only-of-type {\n",
       "        vertical-align: middle;\n",
       "    }\n",
       "\n",
       "    .dataframe tbody tr th {\n",
       "        vertical-align: top;\n",
       "    }\n",
       "\n",
       "    .dataframe thead th {\n",
       "        text-align: right;\n",
       "    }\n",
       "</style>\n",
       "<table border=\"1\" class=\"dataframe\">\n",
       "  <thead>\n",
       "    <tr style=\"text-align: right;\">\n",
       "      <th></th>\n",
       "      <th>No Of Withdrawals</th>\n",
       "      <th>No Of XYZ Card Withdrawals</th>\n",
       "      <th>No Of Other Card Withdrawals</th>\n",
       "      <th>Total amount Withdrawn</th>\n",
       "      <th>Amount withdrawn XYZ Card</th>\n",
       "      <th>Amount withdrawn Other Card</th>\n",
       "      <th>Weekday</th>\n",
       "      <th>Festival Religion</th>\n",
       "      <th>Working Day</th>\n",
       "      <th>Holiday Sequence</th>\n",
       "    </tr>\n",
       "    <tr>\n",
       "      <th>Transaction Date</th>\n",
       "      <th></th>\n",
       "      <th></th>\n",
       "      <th></th>\n",
       "      <th></th>\n",
       "      <th></th>\n",
       "      <th></th>\n",
       "      <th></th>\n",
       "      <th></th>\n",
       "      <th></th>\n",
       "      <th></th>\n",
       "    </tr>\n",
       "  </thead>\n",
       "  <tbody>\n",
       "    <tr>\n",
       "      <td>2011-01-01</td>\n",
       "      <td>50</td>\n",
       "      <td>20</td>\n",
       "      <td>30</td>\n",
       "      <td>123800</td>\n",
       "      <td>41700</td>\n",
       "      <td>82100</td>\n",
       "      <td>2</td>\n",
       "      <td>1</td>\n",
       "      <td>0</td>\n",
       "      <td>4</td>\n",
       "    </tr>\n",
       "    <tr>\n",
       "      <td>2011-01-02</td>\n",
       "      <td>17</td>\n",
       "      <td>5</td>\n",
       "      <td>12</td>\n",
       "      <td>52800</td>\n",
       "      <td>20900</td>\n",
       "      <td>31900</td>\n",
       "      <td>3</td>\n",
       "      <td>4</td>\n",
       "      <td>0</td>\n",
       "      <td>1</td>\n",
       "    </tr>\n",
       "    <tr>\n",
       "      <td>2011-01-03</td>\n",
       "      <td>24</td>\n",
       "      <td>21</td>\n",
       "      <td>3</td>\n",
       "      <td>88100</td>\n",
       "      <td>77100</td>\n",
       "      <td>11000</td>\n",
       "      <td>1</td>\n",
       "      <td>4</td>\n",
       "      <td>1</td>\n",
       "      <td>7</td>\n",
       "    </tr>\n",
       "    <tr>\n",
       "      <td>2011-01-04</td>\n",
       "      <td>34</td>\n",
       "      <td>12</td>\n",
       "      <td>22</td>\n",
       "      <td>101600</td>\n",
       "      <td>51200</td>\n",
       "      <td>50400</td>\n",
       "      <td>5</td>\n",
       "      <td>4</td>\n",
       "      <td>1</td>\n",
       "      <td>7</td>\n",
       "    </tr>\n",
       "    <tr>\n",
       "      <td>2011-01-05</td>\n",
       "      <td>30</td>\n",
       "      <td>14</td>\n",
       "      <td>16</td>\n",
       "      <td>98000</td>\n",
       "      <td>52700</td>\n",
       "      <td>45300</td>\n",
       "      <td>6</td>\n",
       "      <td>4</td>\n",
       "      <td>1</td>\n",
       "      <td>7</td>\n",
       "    </tr>\n",
       "    <tr>\n",
       "      <td>...</td>\n",
       "      <td>...</td>\n",
       "      <td>...</td>\n",
       "      <td>...</td>\n",
       "      <td>...</td>\n",
       "      <td>...</td>\n",
       "      <td>...</td>\n",
       "      <td>...</td>\n",
       "      <td>...</td>\n",
       "      <td>...</td>\n",
       "      <td>...</td>\n",
       "    </tr>\n",
       "    <tr>\n",
       "      <td>2017-09-25</td>\n",
       "      <td>122</td>\n",
       "      <td>41</td>\n",
       "      <td>81</td>\n",
       "      <td>513800</td>\n",
       "      <td>283000</td>\n",
       "      <td>230800</td>\n",
       "      <td>1</td>\n",
       "      <td>4</td>\n",
       "      <td>1</td>\n",
       "      <td>3</td>\n",
       "    </tr>\n",
       "    <tr>\n",
       "      <td>2017-09-26</td>\n",
       "      <td>131</td>\n",
       "      <td>36</td>\n",
       "      <td>95</td>\n",
       "      <td>437400</td>\n",
       "      <td>162700</td>\n",
       "      <td>274700</td>\n",
       "      <td>5</td>\n",
       "      <td>4</td>\n",
       "      <td>1</td>\n",
       "      <td>7</td>\n",
       "    </tr>\n",
       "    <tr>\n",
       "      <td>2017-09-27</td>\n",
       "      <td>130</td>\n",
       "      <td>40</td>\n",
       "      <td>90</td>\n",
       "      <td>511200</td>\n",
       "      <td>215000</td>\n",
       "      <td>296200</td>\n",
       "      <td>6</td>\n",
       "      <td>4</td>\n",
       "      <td>1</td>\n",
       "      <td>7</td>\n",
       "    </tr>\n",
       "    <tr>\n",
       "      <td>2017-09-28</td>\n",
       "      <td>137</td>\n",
       "      <td>41</td>\n",
       "      <td>96</td>\n",
       "      <td>468600</td>\n",
       "      <td>221800</td>\n",
       "      <td>246800</td>\n",
       "      <td>4</td>\n",
       "      <td>4</td>\n",
       "      <td>1</td>\n",
       "      <td>6</td>\n",
       "    </tr>\n",
       "    <tr>\n",
       "      <td>2017-09-29</td>\n",
       "      <td>137</td>\n",
       "      <td>34</td>\n",
       "      <td>103</td>\n",
       "      <td>468800</td>\n",
       "      <td>146200</td>\n",
       "      <td>322600</td>\n",
       "      <td>0</td>\n",
       "      <td>1</td>\n",
       "      <td>0</td>\n",
       "      <td>4</td>\n",
       "    </tr>\n",
       "  </tbody>\n",
       "</table>\n",
       "<p>2354 rows × 10 columns</p>\n",
       "</div>"
      ],
      "text/plain": [
       "                  No Of Withdrawals  No Of XYZ Card Withdrawals  \\\n",
       "Transaction Date                                                  \n",
       "2011-01-01                       50                          20   \n",
       "2011-01-02                       17                           5   \n",
       "2011-01-03                       24                          21   \n",
       "2011-01-04                       34                          12   \n",
       "2011-01-05                       30                          14   \n",
       "...                             ...                         ...   \n",
       "2017-09-25                      122                          41   \n",
       "2017-09-26                      131                          36   \n",
       "2017-09-27                      130                          40   \n",
       "2017-09-28                      137                          41   \n",
       "2017-09-29                      137                          34   \n",
       "\n",
       "                  No Of Other Card Withdrawals  Total amount Withdrawn  \\\n",
       "Transaction Date                                                         \n",
       "2011-01-01                                  30                  123800   \n",
       "2011-01-02                                  12                   52800   \n",
       "2011-01-03                                   3                   88100   \n",
       "2011-01-04                                  22                  101600   \n",
       "2011-01-05                                  16                   98000   \n",
       "...                                        ...                     ...   \n",
       "2017-09-25                                  81                  513800   \n",
       "2017-09-26                                  95                  437400   \n",
       "2017-09-27                                  90                  511200   \n",
       "2017-09-28                                  96                  468600   \n",
       "2017-09-29                                 103                  468800   \n",
       "\n",
       "                  Amount withdrawn XYZ Card  Amount withdrawn Other Card  \\\n",
       "Transaction Date                                                           \n",
       "2011-01-01                            41700                        82100   \n",
       "2011-01-02                            20900                        31900   \n",
       "2011-01-03                            77100                        11000   \n",
       "2011-01-04                            51200                        50400   \n",
       "2011-01-05                            52700                        45300   \n",
       "...                                     ...                          ...   \n",
       "2017-09-25                           283000                       230800   \n",
       "2017-09-26                           162700                       274700   \n",
       "2017-09-27                           215000                       296200   \n",
       "2017-09-28                           221800                       246800   \n",
       "2017-09-29                           146200                       322600   \n",
       "\n",
       "                 Weekday Festival Religion Working Day Holiday Sequence  \n",
       "Transaction Date                                                         \n",
       "2011-01-01             2                 1           0                4  \n",
       "2011-01-02             3                 4           0                1  \n",
       "2011-01-03             1                 4           1                7  \n",
       "2011-01-04             5                 4           1                7  \n",
       "2011-01-05             6                 4           1                7  \n",
       "...                  ...               ...         ...              ...  \n",
       "2017-09-25             1                 4           1                3  \n",
       "2017-09-26             5                 4           1                7  \n",
       "2017-09-27             6                 4           1                7  \n",
       "2017-09-28             4                 4           1                6  \n",
       "2017-09-29             0                 1           0                4  \n",
       "\n",
       "[2354 rows x 10 columns]"
      ]
     },
     "execution_count": 24,
     "metadata": {},
     "output_type": "execute_result"
    }
   ],
   "source": [
    "data01"
   ]
  },
  {
   "cell_type": "code",
   "execution_count": 25,
   "metadata": {},
   "outputs": [
    {
     "data": {
      "text/html": [
       "<div>\n",
       "<style scoped>\n",
       "    .dataframe tbody tr th:only-of-type {\n",
       "        vertical-align: middle;\n",
       "    }\n",
       "\n",
       "    .dataframe tbody tr th {\n",
       "        vertical-align: top;\n",
       "    }\n",
       "\n",
       "    .dataframe thead th {\n",
       "        text-align: right;\n",
       "    }\n",
       "</style>\n",
       "<table border=\"1\" class=\"dataframe\">\n",
       "  <thead>\n",
       "    <tr style=\"text-align: right;\">\n",
       "      <th></th>\n",
       "      <th>No Of Withdrawals</th>\n",
       "      <th>No Of XYZ Card Withdrawals</th>\n",
       "      <th>No Of Other Card Withdrawals</th>\n",
       "      <th>Total amount Withdrawn</th>\n",
       "      <th>Amount withdrawn XYZ Card</th>\n",
       "      <th>Amount withdrawn Other Card</th>\n",
       "      <th>Weekday</th>\n",
       "      <th>Festival Religion</th>\n",
       "      <th>Working Day</th>\n",
       "      <th>Holiday Sequence</th>\n",
       "    </tr>\n",
       "    <tr>\n",
       "      <th>Transaction Date</th>\n",
       "      <th></th>\n",
       "      <th></th>\n",
       "      <th></th>\n",
       "      <th></th>\n",
       "      <th></th>\n",
       "      <th></th>\n",
       "      <th></th>\n",
       "      <th></th>\n",
       "      <th></th>\n",
       "      <th></th>\n",
       "    </tr>\n",
       "  </thead>\n",
       "  <tbody>\n",
       "    <tr>\n",
       "      <td>2011-01-01</td>\n",
       "      <td>50</td>\n",
       "      <td>20</td>\n",
       "      <td>30</td>\n",
       "      <td>123800</td>\n",
       "      <td>41700</td>\n",
       "      <td>82100</td>\n",
       "      <td>2</td>\n",
       "      <td>1</td>\n",
       "      <td>0</td>\n",
       "      <td>4</td>\n",
       "    </tr>\n",
       "    <tr>\n",
       "      <td>2011-01-02</td>\n",
       "      <td>17</td>\n",
       "      <td>5</td>\n",
       "      <td>12</td>\n",
       "      <td>52800</td>\n",
       "      <td>20900</td>\n",
       "      <td>31900</td>\n",
       "      <td>3</td>\n",
       "      <td>4</td>\n",
       "      <td>0</td>\n",
       "      <td>1</td>\n",
       "    </tr>\n",
       "    <tr>\n",
       "      <td>2011-01-03</td>\n",
       "      <td>24</td>\n",
       "      <td>21</td>\n",
       "      <td>3</td>\n",
       "      <td>88100</td>\n",
       "      <td>77100</td>\n",
       "      <td>11000</td>\n",
       "      <td>1</td>\n",
       "      <td>4</td>\n",
       "      <td>1</td>\n",
       "      <td>7</td>\n",
       "    </tr>\n",
       "    <tr>\n",
       "      <td>2011-01-04</td>\n",
       "      <td>34</td>\n",
       "      <td>12</td>\n",
       "      <td>22</td>\n",
       "      <td>101600</td>\n",
       "      <td>51200</td>\n",
       "      <td>50400</td>\n",
       "      <td>5</td>\n",
       "      <td>4</td>\n",
       "      <td>1</td>\n",
       "      <td>7</td>\n",
       "    </tr>\n",
       "    <tr>\n",
       "      <td>2011-01-05</td>\n",
       "      <td>30</td>\n",
       "      <td>14</td>\n",
       "      <td>16</td>\n",
       "      <td>98000</td>\n",
       "      <td>52700</td>\n",
       "      <td>45300</td>\n",
       "      <td>6</td>\n",
       "      <td>4</td>\n",
       "      <td>1</td>\n",
       "      <td>7</td>\n",
       "    </tr>\n",
       "    <tr>\n",
       "      <td>...</td>\n",
       "      <td>...</td>\n",
       "      <td>...</td>\n",
       "      <td>...</td>\n",
       "      <td>...</td>\n",
       "      <td>...</td>\n",
       "      <td>...</td>\n",
       "      <td>...</td>\n",
       "      <td>...</td>\n",
       "      <td>...</td>\n",
       "      <td>...</td>\n",
       "    </tr>\n",
       "    <tr>\n",
       "      <td>2017-09-25</td>\n",
       "      <td>122</td>\n",
       "      <td>41</td>\n",
       "      <td>81</td>\n",
       "      <td>513800</td>\n",
       "      <td>283000</td>\n",
       "      <td>230800</td>\n",
       "      <td>1</td>\n",
       "      <td>4</td>\n",
       "      <td>1</td>\n",
       "      <td>3</td>\n",
       "    </tr>\n",
       "    <tr>\n",
       "      <td>2017-09-26</td>\n",
       "      <td>131</td>\n",
       "      <td>36</td>\n",
       "      <td>95</td>\n",
       "      <td>437400</td>\n",
       "      <td>162700</td>\n",
       "      <td>274700</td>\n",
       "      <td>5</td>\n",
       "      <td>4</td>\n",
       "      <td>1</td>\n",
       "      <td>7</td>\n",
       "    </tr>\n",
       "    <tr>\n",
       "      <td>2017-09-27</td>\n",
       "      <td>130</td>\n",
       "      <td>40</td>\n",
       "      <td>90</td>\n",
       "      <td>511200</td>\n",
       "      <td>215000</td>\n",
       "      <td>296200</td>\n",
       "      <td>6</td>\n",
       "      <td>4</td>\n",
       "      <td>1</td>\n",
       "      <td>7</td>\n",
       "    </tr>\n",
       "    <tr>\n",
       "      <td>2017-09-28</td>\n",
       "      <td>137</td>\n",
       "      <td>41</td>\n",
       "      <td>96</td>\n",
       "      <td>468600</td>\n",
       "      <td>221800</td>\n",
       "      <td>246800</td>\n",
       "      <td>4</td>\n",
       "      <td>4</td>\n",
       "      <td>1</td>\n",
       "      <td>6</td>\n",
       "    </tr>\n",
       "    <tr>\n",
       "      <td>2017-09-29</td>\n",
       "      <td>137</td>\n",
       "      <td>34</td>\n",
       "      <td>103</td>\n",
       "      <td>468800</td>\n",
       "      <td>146200</td>\n",
       "      <td>322600</td>\n",
       "      <td>0</td>\n",
       "      <td>1</td>\n",
       "      <td>0</td>\n",
       "      <td>4</td>\n",
       "    </tr>\n",
       "  </tbody>\n",
       "</table>\n",
       "<p>2354 rows × 10 columns</p>\n",
       "</div>"
      ],
      "text/plain": [
       "                  No Of Withdrawals  No Of XYZ Card Withdrawals  \\\n",
       "Transaction Date                                                  \n",
       "2011-01-01                       50                          20   \n",
       "2011-01-02                       17                           5   \n",
       "2011-01-03                       24                          21   \n",
       "2011-01-04                       34                          12   \n",
       "2011-01-05                       30                          14   \n",
       "...                             ...                         ...   \n",
       "2017-09-25                      122                          41   \n",
       "2017-09-26                      131                          36   \n",
       "2017-09-27                      130                          40   \n",
       "2017-09-28                      137                          41   \n",
       "2017-09-29                      137                          34   \n",
       "\n",
       "                  No Of Other Card Withdrawals  Total amount Withdrawn  \\\n",
       "Transaction Date                                                         \n",
       "2011-01-01                                  30                  123800   \n",
       "2011-01-02                                  12                   52800   \n",
       "2011-01-03                                   3                   88100   \n",
       "2011-01-04                                  22                  101600   \n",
       "2011-01-05                                  16                   98000   \n",
       "...                                        ...                     ...   \n",
       "2017-09-25                                  81                  513800   \n",
       "2017-09-26                                  95                  437400   \n",
       "2017-09-27                                  90                  511200   \n",
       "2017-09-28                                  96                  468600   \n",
       "2017-09-29                                 103                  468800   \n",
       "\n",
       "                  Amount withdrawn XYZ Card  Amount withdrawn Other Card  \\\n",
       "Transaction Date                                                           \n",
       "2011-01-01                            41700                        82100   \n",
       "2011-01-02                            20900                        31900   \n",
       "2011-01-03                            77100                        11000   \n",
       "2011-01-04                            51200                        50400   \n",
       "2011-01-05                            52700                        45300   \n",
       "...                                     ...                          ...   \n",
       "2017-09-25                           283000                       230800   \n",
       "2017-09-26                           162700                       274700   \n",
       "2017-09-27                           215000                       296200   \n",
       "2017-09-28                           221800                       246800   \n",
       "2017-09-29                           146200                       322600   \n",
       "\n",
       "                  Weekday  Festival Religion  Working Day  Holiday Sequence  \n",
       "Transaction Date                                                             \n",
       "2011-01-01              2                  1            0                 4  \n",
       "2011-01-02              3                  4            0                 1  \n",
       "2011-01-03              1                  4            1                 7  \n",
       "2011-01-04              5                  4            1                 7  \n",
       "2011-01-05              6                  4            1                 7  \n",
       "...                   ...                ...          ...               ...  \n",
       "2017-09-25              1                  4            1                 3  \n",
       "2017-09-26              5                  4            1                 7  \n",
       "2017-09-27              6                  4            1                 7  \n",
       "2017-09-28              4                  4            1                 6  \n",
       "2017-09-29              0                  1            0                 4  \n",
       "\n",
       "[2354 rows x 10 columns]"
      ]
     },
     "execution_count": 25,
     "metadata": {},
     "output_type": "execute_result"
    }
   ],
   "source": [
    "df01"
   ]
  },
  {
   "cell_type": "code",
   "execution_count": 26,
   "metadata": {},
   "outputs": [],
   "source": [
    "df02 = df01"
   ]
  },
  {
   "cell_type": "code",
   "execution_count": 27,
   "metadata": {},
   "outputs": [],
   "source": [
    "df02 = df02.drop('Amount withdrawn Other Card', 1)"
   ]
  },
  {
   "cell_type": "code",
   "execution_count": 29,
   "metadata": {},
   "outputs": [],
   "source": [
    "df02 = df02.drop('No Of Withdrawals', 1)"
   ]
  },
  {
   "cell_type": "code",
   "execution_count": 30,
   "metadata": {},
   "outputs": [],
   "source": [
    "df02 = df02.drop('No Of XYZ Card Withdrawals', 1)"
   ]
  },
  {
   "cell_type": "code",
   "execution_count": 31,
   "metadata": {},
   "outputs": [],
   "source": [
    "df02 = df02.drop('No Of Other Card Withdrawals', 1)"
   ]
  },
  {
   "cell_type": "code",
   "execution_count": 32,
   "metadata": {},
   "outputs": [],
   "source": [
    "df02 = df02.drop('Amount withdrawn XYZ Card', 1)"
   ]
  },
  {
   "cell_type": "code",
   "execution_count": 34,
   "metadata": {
    "scrolled": true
   },
   "outputs": [
    {
     "data": {
      "text/html": [
       "<div>\n",
       "<style scoped>\n",
       "    .dataframe tbody tr th:only-of-type {\n",
       "        vertical-align: middle;\n",
       "    }\n",
       "\n",
       "    .dataframe tbody tr th {\n",
       "        vertical-align: top;\n",
       "    }\n",
       "\n",
       "    .dataframe thead th {\n",
       "        text-align: right;\n",
       "    }\n",
       "</style>\n",
       "<table border=\"1\" class=\"dataframe\">\n",
       "  <thead>\n",
       "    <tr style=\"text-align: right;\">\n",
       "      <th></th>\n",
       "      <th>Total amount Withdrawn</th>\n",
       "      <th>Weekday</th>\n",
       "      <th>Festival Religion</th>\n",
       "      <th>Working Day</th>\n",
       "      <th>Holiday Sequence</th>\n",
       "    </tr>\n",
       "    <tr>\n",
       "      <th>Transaction Date</th>\n",
       "      <th></th>\n",
       "      <th></th>\n",
       "      <th></th>\n",
       "      <th></th>\n",
       "      <th></th>\n",
       "    </tr>\n",
       "  </thead>\n",
       "  <tbody>\n",
       "    <tr>\n",
       "      <td>2011-01-01</td>\n",
       "      <td>123800</td>\n",
       "      <td>2</td>\n",
       "      <td>1</td>\n",
       "      <td>0</td>\n",
       "      <td>4</td>\n",
       "    </tr>\n",
       "    <tr>\n",
       "      <td>2011-01-02</td>\n",
       "      <td>52800</td>\n",
       "      <td>3</td>\n",
       "      <td>4</td>\n",
       "      <td>0</td>\n",
       "      <td>1</td>\n",
       "    </tr>\n",
       "    <tr>\n",
       "      <td>2011-01-03</td>\n",
       "      <td>88100</td>\n",
       "      <td>1</td>\n",
       "      <td>4</td>\n",
       "      <td>1</td>\n",
       "      <td>7</td>\n",
       "    </tr>\n",
       "    <tr>\n",
       "      <td>2011-01-04</td>\n",
       "      <td>101600</td>\n",
       "      <td>5</td>\n",
       "      <td>4</td>\n",
       "      <td>1</td>\n",
       "      <td>7</td>\n",
       "    </tr>\n",
       "    <tr>\n",
       "      <td>2011-01-05</td>\n",
       "      <td>98000</td>\n",
       "      <td>6</td>\n",
       "      <td>4</td>\n",
       "      <td>1</td>\n",
       "      <td>7</td>\n",
       "    </tr>\n",
       "    <tr>\n",
       "      <td>...</td>\n",
       "      <td>...</td>\n",
       "      <td>...</td>\n",
       "      <td>...</td>\n",
       "      <td>...</td>\n",
       "      <td>...</td>\n",
       "    </tr>\n",
       "    <tr>\n",
       "      <td>2017-09-25</td>\n",
       "      <td>513800</td>\n",
       "      <td>1</td>\n",
       "      <td>4</td>\n",
       "      <td>1</td>\n",
       "      <td>3</td>\n",
       "    </tr>\n",
       "    <tr>\n",
       "      <td>2017-09-26</td>\n",
       "      <td>437400</td>\n",
       "      <td>5</td>\n",
       "      <td>4</td>\n",
       "      <td>1</td>\n",
       "      <td>7</td>\n",
       "    </tr>\n",
       "    <tr>\n",
       "      <td>2017-09-27</td>\n",
       "      <td>511200</td>\n",
       "      <td>6</td>\n",
       "      <td>4</td>\n",
       "      <td>1</td>\n",
       "      <td>7</td>\n",
       "    </tr>\n",
       "    <tr>\n",
       "      <td>2017-09-28</td>\n",
       "      <td>468600</td>\n",
       "      <td>4</td>\n",
       "      <td>4</td>\n",
       "      <td>1</td>\n",
       "      <td>6</td>\n",
       "    </tr>\n",
       "    <tr>\n",
       "      <td>2017-09-29</td>\n",
       "      <td>468800</td>\n",
       "      <td>0</td>\n",
       "      <td>1</td>\n",
       "      <td>0</td>\n",
       "      <td>4</td>\n",
       "    </tr>\n",
       "  </tbody>\n",
       "</table>\n",
       "<p>2354 rows × 5 columns</p>\n",
       "</div>"
      ],
      "text/plain": [
       "                  Total amount Withdrawn  Weekday  Festival Religion  \\\n",
       "Transaction Date                                                       \n",
       "2011-01-01                        123800        2                  1   \n",
       "2011-01-02                         52800        3                  4   \n",
       "2011-01-03                         88100        1                  4   \n",
       "2011-01-04                        101600        5                  4   \n",
       "2011-01-05                         98000        6                  4   \n",
       "...                                  ...      ...                ...   \n",
       "2017-09-25                        513800        1                  4   \n",
       "2017-09-26                        437400        5                  4   \n",
       "2017-09-27                        511200        6                  4   \n",
       "2017-09-28                        468600        4                  4   \n",
       "2017-09-29                        468800        0                  1   \n",
       "\n",
       "                  Working Day  Holiday Sequence  \n",
       "Transaction Date                                 \n",
       "2011-01-01                  0                 4  \n",
       "2011-01-02                  0                 1  \n",
       "2011-01-03                  1                 7  \n",
       "2011-01-04                  1                 7  \n",
       "2011-01-05                  1                 7  \n",
       "...                       ...               ...  \n",
       "2017-09-25                  1                 3  \n",
       "2017-09-26                  1                 7  \n",
       "2017-09-27                  1                 7  \n",
       "2017-09-28                  1                 6  \n",
       "2017-09-29                  0                 4  \n",
       "\n",
       "[2354 rows x 5 columns]"
      ]
     },
     "execution_count": 34,
     "metadata": {},
     "output_type": "execute_result"
    }
   ],
   "source": [
    "df02"
   ]
  },
  {
   "cell_type": "code",
   "execution_count": 92,
   "metadata": {},
   "outputs": [],
   "source": [
    "df02[\"Total amount Withdrawn\"] = df02[\"Total amount Withdrawn\"].astype(int)"
   ]
  },
  {
   "cell_type": "code",
   "execution_count": 35,
   "metadata": {},
   "outputs": [
    {
     "data": {
      "text/plain": [
       "Total amount Withdrawn    int64\n",
       "Weekday                   int32\n",
       "Festival Religion         int32\n",
       "Working Day               int32\n",
       "Holiday Sequence          int32\n",
       "dtype: object"
      ]
     },
     "execution_count": 35,
     "metadata": {},
     "output_type": "execute_result"
    }
   ],
   "source": [
    "df02.dtypes[:]"
   ]
  },
  {
   "cell_type": "code",
   "execution_count": 70,
   "metadata": {
    "scrolled": true
   },
   "outputs": [
    {
     "data": {
      "text/html": [
       "<div>\n",
       "<style scoped>\n",
       "    .dataframe tbody tr th:only-of-type {\n",
       "        vertical-align: middle;\n",
       "    }\n",
       "\n",
       "    .dataframe tbody tr th {\n",
       "        vertical-align: top;\n",
       "    }\n",
       "\n",
       "    .dataframe thead th {\n",
       "        text-align: right;\n",
       "    }\n",
       "</style>\n",
       "<table border=\"1\" class=\"dataframe\">\n",
       "  <thead>\n",
       "    <tr style=\"text-align: right;\">\n",
       "      <th></th>\n",
       "      <th>Total amount Withdrawn</th>\n",
       "      <th>Weekday</th>\n",
       "      <th>Festival Religion</th>\n",
       "      <th>Working Day</th>\n",
       "      <th>Holiday Sequence</th>\n",
       "    </tr>\n",
       "    <tr>\n",
       "      <th>Transaction Date</th>\n",
       "      <th></th>\n",
       "      <th></th>\n",
       "      <th></th>\n",
       "      <th></th>\n",
       "      <th></th>\n",
       "    </tr>\n",
       "  </thead>\n",
       "  <tbody>\n",
       "    <tr>\n",
       "      <td>2015-07-29</td>\n",
       "      <td>212900</td>\n",
       "      <td>6</td>\n",
       "      <td>4</td>\n",
       "      <td>1</td>\n",
       "      <td>7</td>\n",
       "    </tr>\n",
       "  </tbody>\n",
       "</table>\n",
       "</div>"
      ],
      "text/plain": [
       "                 Total amount Withdrawn  Weekday  Festival Religion  \\\n",
       "Transaction Date                                                      \n",
       "2015-07-29                       212900        6                  4   \n",
       "\n",
       "                  Working Day  Holiday Sequence  \n",
       "Transaction Date                                 \n",
       "2015-07-29                  1                 7  "
      ]
     },
     "execution_count": 70,
     "metadata": {},
     "output_type": "execute_result"
    }
   ],
   "source": [
    "df02[(df02[\"Total amount Withdrawn\"].str.contains(\"212900\"))]"
   ]
  },
  {
   "cell_type": "code",
   "execution_count": 76,
   "metadata": {},
   "outputs": [],
   "source": [
    "df02.to_csv('Big Street ATM.csv',index=True, sep=',')"
   ]
  },
  {
   "cell_type": "markdown",
   "metadata": {},
   "source": [
    "# Reshaping data"
   ]
  },
  {
   "cell_type": "code",
   "execution_count": null,
   "metadata": {},
   "outputs": [],
   "source": []
  },
  {
   "cell_type": "code",
   "execution_count": 36,
   "metadata": {},
   "outputs": [
    {
     "data": {
      "text/plain": [
       "1647"
      ]
     },
     "execution_count": 36,
     "metadata": {},
     "output_type": "execute_result"
    }
   ],
   "source": [
    "train_size = 0.7 # Use 70 % of the data as the train set, this is so it's easy to display in this notebook\n",
    "target_column = 1 # the column index value of the target column\n",
    "\n",
    "split_idx = int(df02.shape[0]*train_size) # index nummer to split at\n",
    "split_idx"
   ]
  },
  {
   "cell_type": "code",
   "execution_count": 37,
   "metadata": {},
   "outputs": [],
   "source": [
    "# ...train\n",
    "X_train = df02.values[:split_idx, target_column:]\n",
    "y_train = df02.values[:split_idx, :target_column]\n",
    "\n",
    "# ...test\n",
    "X_test = df02.values[split_idx:, target_column:]\n",
    "y_test = df02.values[split_idx:, :target_column]"
   ]
  },
  {
   "cell_type": "code",
   "execution_count": 38,
   "metadata": {},
   "outputs": [
    {
     "data": {
      "text/plain": [
       "array([[2, 1, 0, 4],\n",
       "       [3, 4, 0, 1],\n",
       "       [1, 4, 1, 7],\n",
       "       ...,\n",
       "       [1, 4, 1, 3],\n",
       "       [5, 4, 1, 7],\n",
       "       [6, 4, 1, 7]], dtype=int64)"
      ]
     },
     "execution_count": 38,
     "metadata": {},
     "output_type": "execute_result"
    }
   ],
   "source": [
    "X_train"
   ]
  },
  {
   "cell_type": "code",
   "execution_count": 39,
   "metadata": {},
   "outputs": [
    {
     "data": {
      "text/plain": [
       "(1647, 4)"
      ]
     },
     "execution_count": 39,
     "metadata": {},
     "output_type": "execute_result"
    }
   ],
   "source": [
    "X_train.shape # 1647 rows by 4 columns"
   ]
  },
  {
   "cell_type": "code",
   "execution_count": 40,
   "metadata": {},
   "outputs": [
    {
     "data": {
      "text/plain": [
       "(707, 4)"
      ]
     },
     "execution_count": 40,
     "metadata": {},
     "output_type": "execute_result"
    }
   ],
   "source": [
    "X_test.shape"
   ]
  },
  {
   "cell_type": "code",
   "execution_count": 41,
   "metadata": {},
   "outputs": [
    {
     "data": {
      "text/plain": [
       "array([[123800],\n",
       "       [ 52800],\n",
       "       [ 88100],\n",
       "       ...,\n",
       "       [400600],\n",
       "       [321400],\n",
       "       [212900]], dtype=int64)"
      ]
     },
     "execution_count": 41,
     "metadata": {},
     "output_type": "execute_result"
    }
   ],
   "source": [
    "y_train"
   ]
  },
  {
   "cell_type": "code",
   "execution_count": 42,
   "metadata": {},
   "outputs": [],
   "source": [
    "# Define variables\n",
    "look_back = 10 # look back 10 steps\n",
    "num_features = 4 # using 4 feautures\n",
    "output_dim = 1 # to predict 1 y value"
   ]
  },
  {
   "cell_type": "code",
   "execution_count": 43,
   "metadata": {},
   "outputs": [
    {
     "data": {
      "text/plain": [
       "1647"
      ]
     },
     "execution_count": 43,
     "metadata": {},
     "output_type": "execute_result"
    }
   ],
   "source": [
    "samples = len(X_train) # total amount of samples\n",
    "samples"
   ]
  },
  {
   "cell_type": "code",
   "execution_count": 44,
   "metadata": {},
   "outputs": [
    {
     "data": {
      "text/plain": [
       "1637"
      ]
     },
     "execution_count": 44,
     "metadata": {},
     "output_type": "execute_result"
    }
   ],
   "source": [
    "samples_train = X_train.shape[0] - look_back \n",
    "samples_train"
   ]
  },
  {
   "cell_type": "code",
   "execution_count": 46,
   "metadata": {},
   "outputs": [
    {
     "data": {
      "text/plain": [
       "(1637, 10, 4)"
      ]
     },
     "execution_count": 46,
     "metadata": {},
     "output_type": "execute_result"
    }
   ],
   "source": [
    "# Define zeros array with the target shape\n",
    "X_train_reshaped = np.zeros((samples_train, look_back, num_features))\n",
    "y_train_reshaped = np.zeros((samples_train))\n",
    "X_train_reshaped.shape"
   ]
  },
  {
   "cell_type": "code",
   "execution_count": 47,
   "metadata": {
    "scrolled": true
   },
   "outputs": [
    {
     "data": {
      "text/plain": [
       "array([[[0., 0., 0., 0.],\n",
       "        [0., 0., 0., 0.],\n",
       "        [0., 0., 0., 0.],\n",
       "        ...,\n",
       "        [0., 0., 0., 0.],\n",
       "        [0., 0., 0., 0.],\n",
       "        [0., 0., 0., 0.]],\n",
       "\n",
       "       [[0., 0., 0., 0.],\n",
       "        [0., 0., 0., 0.],\n",
       "        [0., 0., 0., 0.],\n",
       "        ...,\n",
       "        [0., 0., 0., 0.],\n",
       "        [0., 0., 0., 0.],\n",
       "        [0., 0., 0., 0.]],\n",
       "\n",
       "       [[0., 0., 0., 0.],\n",
       "        [0., 0., 0., 0.],\n",
       "        [0., 0., 0., 0.],\n",
       "        ...,\n",
       "        [0., 0., 0., 0.],\n",
       "        [0., 0., 0., 0.],\n",
       "        [0., 0., 0., 0.]],\n",
       "\n",
       "       ...,\n",
       "\n",
       "       [[0., 0., 0., 0.],\n",
       "        [0., 0., 0., 0.],\n",
       "        [0., 0., 0., 0.],\n",
       "        ...,\n",
       "        [0., 0., 0., 0.],\n",
       "        [0., 0., 0., 0.],\n",
       "        [0., 0., 0., 0.]],\n",
       "\n",
       "       [[0., 0., 0., 0.],\n",
       "        [0., 0., 0., 0.],\n",
       "        [0., 0., 0., 0.],\n",
       "        ...,\n",
       "        [0., 0., 0., 0.],\n",
       "        [0., 0., 0., 0.],\n",
       "        [0., 0., 0., 0.]],\n",
       "\n",
       "       [[0., 0., 0., 0.],\n",
       "        [0., 0., 0., 0.],\n",
       "        [0., 0., 0., 0.],\n",
       "        ...,\n",
       "        [0., 0., 0., 0.],\n",
       "        [0., 0., 0., 0.],\n",
       "        [0., 0., 0., 0.]]])"
      ]
     },
     "execution_count": 47,
     "metadata": {},
     "output_type": "execute_result"
    }
   ],
   "source": [
    "X_train_reshaped"
   ]
  },
  {
   "cell_type": "code",
   "execution_count": 48,
   "metadata": {},
   "outputs": [],
   "source": [
    "# Create the reshaped train data\n",
    "for i in range(samples_train):\n",
    "    y_position = i + look_back\n",
    "    X_train_reshaped[i] = X_train[i:y_position]\n",
    "    y_train_reshaped[i] = y_train[y_position]"
   ]
  },
  {
   "cell_type": "code",
   "execution_count": 49,
   "metadata": {},
   "outputs": [
    {
     "data": {
      "text/plain": [
       "(1637, 10, 4)"
      ]
     },
     "execution_count": 49,
     "metadata": {},
     "output_type": "execute_result"
    }
   ],
   "source": [
    "X_train_reshaped.shape"
   ]
  },
  {
   "cell_type": "code",
   "execution_count": 50,
   "metadata": {},
   "outputs": [
    {
     "data": {
      "text/plain": [
       "array([111900.,  42700.,  81200., ..., 400600., 321400., 212900.])"
      ]
     },
     "execution_count": 50,
     "metadata": {},
     "output_type": "execute_result"
    }
   ],
   "source": [
    "y_train_reshaped"
   ]
  },
  {
   "cell_type": "code",
   "execution_count": 51,
   "metadata": {
    "scrolled": true
   },
   "outputs": [
    {
     "data": {
      "text/plain": [
       "array([[[2., 1., 0., 4.],\n",
       "        [3., 4., 0., 1.],\n",
       "        [1., 4., 1., 7.],\n",
       "        ...,\n",
       "        [2., 4., 0., 4.],\n",
       "        [3., 4., 0., 1.],\n",
       "        [1., 4., 1., 3.]],\n",
       "\n",
       "       [[3., 4., 0., 1.],\n",
       "        [1., 4., 1., 7.],\n",
       "        [5., 4., 1., 7.],\n",
       "        ...,\n",
       "        [3., 4., 0., 1.],\n",
       "        [1., 4., 1., 3.],\n",
       "        [5., 4., 1., 7.]],\n",
       "\n",
       "       [[1., 4., 1., 7.],\n",
       "        [5., 4., 1., 7.],\n",
       "        [6., 4., 1., 7.],\n",
       "        ...,\n",
       "        [1., 4., 1., 3.],\n",
       "        [5., 4., 1., 7.],\n",
       "        [6., 4., 1., 7.]],\n",
       "\n",
       "       ...,\n",
       "\n",
       "       [[0., 4., 1., 6.],\n",
       "        [2., 2., 0., 4.],\n",
       "        [3., 4., 0., 1.],\n",
       "        ...,\n",
       "        [0., 4., 1., 6.],\n",
       "        [2., 4., 0., 4.],\n",
       "        [3., 4., 0., 1.]],\n",
       "\n",
       "       [[2., 2., 0., 4.],\n",
       "        [3., 4., 0., 1.],\n",
       "        [1., 4., 1., 3.],\n",
       "        ...,\n",
       "        [2., 4., 0., 4.],\n",
       "        [3., 4., 0., 1.],\n",
       "        [1., 4., 1., 3.]],\n",
       "\n",
       "       [[3., 4., 0., 1.],\n",
       "        [1., 4., 1., 3.],\n",
       "        [5., 4., 1., 7.],\n",
       "        ...,\n",
       "        [3., 4., 0., 1.],\n",
       "        [1., 4., 1., 3.],\n",
       "        [5., 4., 1., 7.]]])"
      ]
     },
     "execution_count": 51,
     "metadata": {},
     "output_type": "execute_result"
    }
   ],
   "source": [
    "X_train_reshaped"
   ]
  },
  {
   "cell_type": "code",
   "execution_count": 52,
   "metadata": {},
   "outputs": [
    {
     "data": {
      "text/plain": [
       "array([[2, 1, 0, 4],\n",
       "       [3, 4, 0, 1],\n",
       "       [1, 4, 1, 7],\n",
       "       ...,\n",
       "       [1, 4, 1, 3],\n",
       "       [5, 4, 1, 7],\n",
       "       [6, 4, 1, 7]], dtype=int64)"
      ]
     },
     "execution_count": 52,
     "metadata": {},
     "output_type": "execute_result"
    }
   ],
   "source": [
    "X_train"
   ]
  },
  {
   "cell_type": "code",
   "execution_count": 53,
   "metadata": {},
   "outputs": [
    {
     "data": {
      "text/plain": [
       "array([[123800],\n",
       "       [ 52800],\n",
       "       [ 88100],\n",
       "       ...,\n",
       "       [400600],\n",
       "       [321400],\n",
       "       [212900]], dtype=int64)"
      ]
     },
     "execution_count": 53,
     "metadata": {},
     "output_type": "execute_result"
    }
   ],
   "source": [
    "y_train"
   ]
  },
  {
   "cell_type": "code",
   "execution_count": 54,
   "metadata": {},
   "outputs": [
    {
     "data": {
      "text/plain": [
       "array([111900.,  42700.,  81200., ..., 400600., 321400., 212900.])"
      ]
     },
     "execution_count": 54,
     "metadata": {},
     "output_type": "execute_result"
    }
   ],
   "source": [
    "y_train_reshaped"
   ]
  },
  {
   "cell_type": "code",
   "execution_count": 56,
   "metadata": {},
   "outputs": [],
   "source": [
    "# Do the same for the test data\n",
    "samples_test = X_test.shape[0] - look_back\n",
    "X_test_reshaped = np.zeros((samples_test, look_back, num_features))\n",
    "y_test_reshaped = np.zeros((samples_test))\n",
    "\n",
    "for i in range(samples_test):\n",
    "    y_position = i + look_back\n",
    "    X_test_reshaped[i] = X_test[i:y_position]\n",
    "    y_test_reshaped[i] = y_test[y_position]"
   ]
  },
  {
   "cell_type": "code",
   "execution_count": 57,
   "metadata": {
    "scrolled": true
   },
   "outputs": [
    {
     "data": {
      "text/plain": [
       "array([[[4., 4., 1., 6.],\n",
       "        [0., 4., 1., 6.],\n",
       "        [2., 4., 0., 4.],\n",
       "        ...,\n",
       "        [4., 4., 1., 7.],\n",
       "        [0., 4., 1., 6.],\n",
       "        [2., 4., 0., 4.]],\n",
       "\n",
       "       [[0., 4., 1., 6.],\n",
       "        [2., 4., 0., 4.],\n",
       "        [3., 4., 0., 1.],\n",
       "        ...,\n",
       "        [0., 4., 1., 6.],\n",
       "        [2., 4., 0., 4.],\n",
       "        [3., 4., 0., 1.]],\n",
       "\n",
       "       [[2., 4., 0., 4.],\n",
       "        [3., 4., 0., 1.],\n",
       "        [1., 4., 1., 3.],\n",
       "        ...,\n",
       "        [2., 4., 0., 4.],\n",
       "        [3., 4., 0., 1.],\n",
       "        [1., 4., 1., 3.]],\n",
       "\n",
       "       ...,\n",
       "\n",
       "       [[2., 4., 0., 4.],\n",
       "        [3., 4., 0., 1.],\n",
       "        [1., 4., 1., 3.],\n",
       "        ...,\n",
       "        [3., 4., 0., 1.],\n",
       "        [1., 4., 1., 3.],\n",
       "        [5., 4., 1., 7.]],\n",
       "\n",
       "       [[3., 4., 0., 1.],\n",
       "        [1., 4., 1., 3.],\n",
       "        [5., 4., 1., 7.],\n",
       "        ...,\n",
       "        [1., 4., 1., 3.],\n",
       "        [5., 4., 1., 7.],\n",
       "        [6., 4., 1., 7.]],\n",
       "\n",
       "       [[1., 4., 1., 3.],\n",
       "        [5., 4., 1., 7.],\n",
       "        [6., 4., 1., 7.],\n",
       "        ...,\n",
       "        [5., 4., 1., 7.],\n",
       "        [6., 4., 1., 7.],\n",
       "        [4., 4., 1., 6.]]])"
      ]
     },
     "execution_count": 57,
     "metadata": {},
     "output_type": "execute_result"
    }
   ],
   "source": [
    "X_test_reshaped"
   ]
  },
  {
   "cell_type": "code",
   "execution_count": 58,
   "metadata": {},
   "outputs": [
    {
     "data": {
      "text/plain": [
       "array([[4, 4, 1, 6],\n",
       "       [0, 4, 1, 6],\n",
       "       [2, 4, 0, 4],\n",
       "       ...,\n",
       "       [6, 4, 1, 7],\n",
       "       [4, 4, 1, 6],\n",
       "       [0, 1, 0, 4]], dtype=int64)"
      ]
     },
     "execution_count": 58,
     "metadata": {},
     "output_type": "execute_result"
    }
   ],
   "source": [
    "X_test"
   ]
  },
  {
   "cell_type": "code",
   "execution_count": 59,
   "metadata": {
    "scrolled": true
   },
   "outputs": [
    {
     "data": {
      "text/plain": [
       "array([6.094e+05, 4.121e+05, 5.428e+05, 4.793e+05, 3.111e+05, 3.842e+05,\n",
       "       4.247e+05, 4.335e+05, 4.765e+05, 4.692e+05, 4.929e+05, 5.227e+05,\n",
       "       3.309e+05, 3.770e+05, 3.011e+05, 2.807e+05, 3.492e+05, 2.716e+05,\n",
       "       3.578e+05, 4.364e+05, 6.583e+05, 3.308e+05, 3.837e+05, 5.438e+05,\n",
       "       5.685e+05, 5.502e+05, 4.536e+05, 3.950e+05, 3.749e+05, 4.980e+05,\n",
       "       3.943e+05, 4.337e+05, 5.802e+05, 5.517e+05, 4.803e+05, 4.513e+05,\n",
       "       4.398e+05, 3.888e+05, 6.031e+05, 3.931e+05, 4.056e+05, 4.788e+05,\n",
       "       5.083e+05, 4.487e+05, 3.722e+05, 3.615e+05, 4.798e+05, 3.240e+05,\n",
       "       3.049e+05, 3.249e+05, 3.227e+05, 5.729e+05, 5.505e+05, 6.813e+05,\n",
       "       3.606e+05, 3.768e+05, 3.909e+05, 5.394e+05, 4.677e+05, 3.774e+05,\n",
       "       5.213e+05, 3.746e+05, 6.762e+05, 3.725e+05, 5.155e+05, 3.028e+05,\n",
       "       4.432e+05, 5.565e+05, 3.252e+05, 4.767e+05, 4.487e+05, 4.119e+05,\n",
       "       4.804e+05, 3.754e+05, 2.869e+05, 2.316e+05, 3.767e+05, 3.990e+05,\n",
       "       4.687e+05, 3.478e+05, 5.613e+05, 5.464e+05, 4.486e+05, 8.891e+05,\n",
       "       5.502e+05, 6.925e+05, 5.035e+05, 6.171e+05, 5.290e+05, 7.847e+05,\n",
       "       4.621e+05, 6.034e+05, 5.529e+05, 8.767e+05, 4.239e+05, 3.646e+05,\n",
       "       1.832e+05, 5.533e+05, 4.927e+05, 4.759e+05, 6.663e+05, 3.655e+05,\n",
       "       3.654e+05, 5.786e+05, 4.528e+05, 3.505e+05, 3.120e+05, 4.477e+05,\n",
       "       4.424e+05, 5.696e+05, 5.154e+05, 3.529e+05, 3.823e+05, 6.111e+05,\n",
       "       7.119e+05, 6.184e+05, 5.622e+05, 4.982e+05, 4.621e+05, 4.935e+05,\n",
       "       5.148e+05, 5.707e+05, 4.147e+05, 5.175e+05, 5.697e+05, 4.915e+05,\n",
       "       5.980e+05, 5.506e+05, 3.761e+05, 5.392e+05, 4.137e+05, 2.841e+05,\n",
       "       4.438e+05, 4.064e+05, 5.228e+05, 4.949e+05, 5.789e+05, 4.971e+05,\n",
       "       2.343e+05, 2.327e+05, 3.757e+05, 4.184e+05, 4.940e+05, 4.895e+05,\n",
       "       4.977e+05, 6.636e+05, 3.059e+05, 2.249e+05, 4.664e+05, 6.100e+05,\n",
       "       5.966e+05, 4.947e+05, 3.907e+05, 5.776e+05, 6.461e+05, 4.236e+05,\n",
       "       4.567e+05, 4.476e+05, 4.662e+05, 4.243e+05, 3.794e+05, 3.544e+05,\n",
       "       4.069e+05, 3.608e+05, 2.713e+05, 1.783e+05, 4.479e+05, 3.279e+05,\n",
       "       4.960e+04, 3.148e+05, 7.420e+04, 1.943e+05, 3.125e+05, 4.502e+05,\n",
       "       6.179e+05, 7.920e+05, 6.341e+05, 4.250e+05, 5.703e+05, 5.886e+05,\n",
       "       5.685e+05, 2.951e+05, 2.278e+05, 2.526e+05, 3.186e+05, 5.760e+05,\n",
       "       6.184e+05, 5.715e+05, 4.587e+05, 5.573e+05, 6.715e+05, 3.926e+05,\n",
       "       3.667e+05, 6.479e+05, 4.356e+05, 5.351e+05, 6.524e+05, 4.003e+05,\n",
       "       6.667e+05, 3.997e+05, 4.342e+05, 5.918e+05, 5.275e+05, 4.701e+05,\n",
       "       6.328e+05, 6.658e+05, 4.029e+05, 3.450e+05, 6.287e+05, 5.943e+05,\n",
       "       4.153e+05, 4.794e+05, 5.691e+05, 9.261e+05, 5.676e+05, 5.455e+05,\n",
       "       4.938e+05, 4.547e+05, 5.807e+05, 5.014e+05, 3.981e+05, 4.412e+05,\n",
       "       2.730e+05, 6.057e+05, 5.584e+05, 4.675e+05, 4.539e+05, 5.380e+04,\n",
       "       2.229e+05, 3.847e+05, 2.403e+05, 1.731e+05, 8.220e+04, 4.274e+05,\n",
       "       1.299e+05, 3.912e+05, 4.806e+05, 4.871e+05, 5.745e+05, 4.213e+05,\n",
       "       1.070e+04, 3.999e+05, 2.175e+05, 4.726e+05, 6.323e+05, 6.548e+05,\n",
       "       1.446e+05, 4.527e+05, 3.768e+05, 6.433e+05, 5.164e+05, 4.423e+05,\n",
       "       2.764e+05, 5.479e+05, 4.481e+05, 7.520e+04, 2.361e+05, 4.387e+05,\n",
       "       3.814e+05, 3.052e+05, 3.063e+05, 4.940e+05, 3.955e+05, 3.404e+05,\n",
       "       3.126e+05, 2.127e+05, 2.588e+05, 2.943e+05, 4.586e+05, 6.022e+05,\n",
       "       6.302e+05, 4.206e+05, 3.192e+05, 3.503e+05, 4.261e+05, 2.439e+05,\n",
       "       4.391e+05, 4.529e+05, 3.767e+05, 4.135e+05, 5.976e+05, 2.097e+05,\n",
       "       3.420e+05, 4.752e+05, 4.564e+05, 3.376e+05, 3.213e+05, 2.942e+05,\n",
       "       4.858e+05, 4.349e+05, 5.550e+05, 7.968e+05, 7.282e+05, 5.628e+05,\n",
       "       6.616e+05, 6.707e+05, 6.275e+05, 4.888e+05, 6.971e+05, 7.024e+05,\n",
       "       4.120e+05, 3.559e+05, 4.375e+05, 4.318e+05, 4.362e+05, 4.993e+05,\n",
       "       3.862e+05, 3.713e+05, 3.129e+05, 3.684e+05, 3.455e+05, 4.184e+05,\n",
       "       4.706e+05, 4.400e+05, 3.029e+05, 1.910e+05, 3.844e+05, 3.545e+05,\n",
       "       2.582e+05, 3.983e+05, 1.038e+05, 2.053e+05, 2.851e+05, 5.081e+05,\n",
       "       4.589e+05, 1.600e+05, 2.894e+05, 2.326e+05, 4.022e+05, 5.020e+05,\n",
       "       4.779e+05, 6.096e+05, 2.688e+05, 5.163e+05, 4.254e+05, 2.418e+05,\n",
       "       3.270e+04, 3.154e+05, 3.225e+05, 3.278e+05, 1.135e+05, 2.023e+05,\n",
       "       4.180e+04, 1.971e+05, 1.926e+05, 3.268e+05, 4.281e+05, 5.627e+05,\n",
       "       4.438e+05, 2.292e+05, 4.693e+05, 6.073e+05, 4.504e+05, 4.927e+05,\n",
       "       5.183e+05, 2.996e+05, 2.805e+05, 4.393e+05, 4.335e+05, 4.155e+05,\n",
       "       3.837e+05, 4.770e+05, 2.317e+05, 6.373e+05, 4.519e+05, 4.472e+05,\n",
       "       3.928e+05, 1.779e+05, 4.180e+05, 4.204e+05, 3.765e+05, 4.079e+05,\n",
       "       3.949e+05, 3.526e+05, 4.253e+05, 4.762e+05, 5.547e+05, 7.254e+05,\n",
       "       6.437e+05, 5.021e+05, 6.206e+05, 5.122e+05, 6.397e+05, 3.065e+05,\n",
       "       6.592e+05, 3.272e+05, 1.452e+05, 4.899e+05, 5.717e+05, 3.826e+05,\n",
       "       4.871e+05, 4.065e+05, 2.007e+05, 2.719e+05, 3.793e+05, 2.599e+05,\n",
       "       3.816e+05, 4.554e+05, 4.428e+05, 3.396e+05, 4.029e+05, 2.727e+05,\n",
       "       5.172e+05, 4.065e+05, 5.671e+05, 3.248e+05, 3.700e+05, 3.810e+05,\n",
       "       4.392e+05, 3.161e+05, 5.276e+05, 6.331e+05, 1.899e+05, 1.615e+05,\n",
       "       3.371e+05, 1.985e+05, 4.860e+04, 5.802e+05, 3.263e+05, 4.074e+05,\n",
       "       1.574e+05, 2.602e+05, 1.084e+05, 4.084e+05, 5.169e+05, 3.523e+05,\n",
       "       4.755e+05, 3.428e+05, 2.538e+05, 4.100e+05, 6.076e+05, 4.693e+05,\n",
       "       1.634e+05, 2.471e+05, 3.165e+05, 1.000e+03, 3.579e+05, 6.467e+05,\n",
       "       3.970e+05, 6.543e+05, 5.768e+05, 3.810e+05, 3.344e+05, 8.000e+03,\n",
       "       2.910e+04, 2.705e+05, 2.000e+02, 1.509e+05, 1.860e+04, 9.000e+03,\n",
       "       1.000e+04, 4.150e+04, 2.250e+04, 2.100e+03, 6.600e+03, 1.390e+04,\n",
       "       2.960e+04, 3.500e+03, 3.170e+04, 3.670e+04, 5.000e+02, 4.800e+03,\n",
       "       1.170e+04, 1.176e+05, 1.243e+05, 1.201e+05, 1.472e+05, 1.667e+05,\n",
       "       1.163e+05, 1.468e+05, 2.153e+05, 1.763e+05, 2.329e+05, 2.288e+05,\n",
       "       2.699e+05, 4.127e+05, 5.545e+05, 3.728e+05, 4.290e+04, 5.000e+04,\n",
       "       1.520e+04, 1.500e+03, 2.000e+03, 1.286e+05, 2.280e+05, 2.933e+05,\n",
       "       1.893e+05, 2.500e+04, 1.620e+05, 2.047e+05, 2.943e+05, 2.033e+05,\n",
       "       1.610e+04, 1.560e+05, 5.150e+05, 2.862e+05, 2.535e+05, 3.092e+05,\n",
       "       2.491e+05, 2.448e+05, 2.525e+05, 3.275e+05, 2.074e+05, 2.419e+05,\n",
       "       1.091e+05, 2.885e+05, 3.345e+05, 2.099e+05, 3.960e+04, 1.280e+04,\n",
       "       2.150e+05, 1.416e+05, 6.010e+04, 2.873e+05, 2.750e+05, 1.338e+05,\n",
       "       2.554e+05, 1.394e+05, 1.549e+05, 4.410e+05, 5.154e+05, 4.575e+05,\n",
       "       5.816e+05, 1.312e+05, 3.613e+05, 8.793e+05, 3.006e+05, 6.362e+05,\n",
       "       1.221e+05, 4.152e+05, 4.544e+05, 3.241e+05, 4.477e+05, 4.308e+05,\n",
       "       3.577e+05, 3.500e+05, 3.493e+05, 4.452e+05, 3.646e+05, 4.547e+05,\n",
       "       2.835e+05, 2.979e+05, 2.302e+05, 3.272e+05, 3.201e+05, 3.663e+05,\n",
       "       5.652e+05, 5.282e+05, 5.106e+05, 4.515e+05, 5.337e+05, 6.815e+05,\n",
       "       1.484e+05, 4.237e+05, 4.705e+05, 3.333e+05, 4.651e+05, 5.961e+05,\n",
       "       4.624e+05, 4.771e+05, 4.419e+05, 2.920e+05, 4.651e+05, 4.775e+05,\n",
       "       2.170e+05, 3.355e+05, 4.625e+05, 3.305e+05, 5.082e+05, 3.088e+05,\n",
       "       3.340e+05, 2.495e+05, 4.120e+05, 3.773e+05, 2.546e+05, 4.264e+05,\n",
       "       2.712e+05, 2.283e+05, 5.312e+05, 4.563e+05, 6.379e+05, 5.709e+05,\n",
       "       4.344e+05, 5.442e+05, 6.418e+05, 4.166e+05, 4.271e+05, 3.989e+05,\n",
       "       2.822e+05, 2.946e+05, 5.806e+05, 3.836e+05, 5.036e+05, 1.547e+05,\n",
       "       3.739e+05, 2.397e+05, 4.566e+05, 4.446e+05, 4.455e+05, 4.919e+05,\n",
       "       3.816e+05, 3.560e+05, 2.132e+05, 1.087e+05, 2.811e+05, 3.216e+05,\n",
       "       5.838e+05, 4.662e+05, 5.087e+05, 5.744e+05, 2.412e+05, 2.873e+05,\n",
       "       2.795e+05, 1.837e+05, 5.158e+05, 4.705e+05, 3.245e+05, 4.132e+05,\n",
       "       4.767e+05, 4.210e+05, 1.656e+05, 3.681e+05, 4.527e+05, 3.071e+05,\n",
       "       2.681e+05, 4.694e+05, 1.060e+05, 2.598e+05, 4.628e+05, 3.799e+05,\n",
       "       2.369e+05, 2.747e+05, 1.871e+05, 3.310e+05, 2.893e+05, 2.578e+05,\n",
       "       3.006e+05, 2.672e+05, 4.237e+05, 4.253e+05, 3.718e+05, 3.646e+05,\n",
       "       3.852e+05, 2.275e+05, 4.349e+05, 3.267e+05, 4.043e+05, 3.277e+05,\n",
       "       3.624e+05, 5.677e+05, 4.403e+05, 3.569e+05, 3.047e+05, 3.968e+05,\n",
       "       4.013e+05, 4.558e+05, 3.927e+05, 2.151e+05, 2.271e+05, 5.723e+05,\n",
       "       3.311e+05, 5.103e+05, 6.810e+04, 4.038e+05, 3.493e+05, 2.332e+05,\n",
       "       2.603e+05, 4.431e+05, 5.202e+05, 6.943e+05, 5.177e+05, 5.023e+05,\n",
       "       3.580e+05, 6.074e+05, 4.575e+05, 3.557e+05, 5.677e+05, 5.523e+05,\n",
       "       4.598e+05, 2.965e+05, 5.448e+05, 4.372e+05, 3.763e+05, 3.863e+05,\n",
       "       4.747e+05, 3.311e+05, 4.546e+05, 3.828e+05, 1.204e+05, 3.416e+05,\n",
       "       5.589e+05, 4.015e+05, 5.138e+05, 4.374e+05, 5.112e+05, 4.686e+05,\n",
       "       4.688e+05])"
      ]
     },
     "execution_count": 59,
     "metadata": {},
     "output_type": "execute_result"
    }
   ],
   "source": [
    "y_test_reshaped"
   ]
  },
  {
   "cell_type": "code",
   "execution_count": 60,
   "metadata": {},
   "outputs": [],
   "source": [
    "split_index = int(df02.shape[0]*train_size)\n",
    "\n",
    "X_train_values = df02[:split_index] # get the datetime values of X_train\n",
    "X_test_values = df02[split_index:] # get the datetime values of X_train"
   ]
  },
  {
   "cell_type": "code",
   "execution_count": 61,
   "metadata": {},
   "outputs": [],
   "source": [
    "X_train = X_train_reshaped  \n",
    "y_train = y_train_reshaped \n",
    "X_test = X_test_reshaped\n",
    "y_test = y_test_reshaped"
   ]
  },
  {
   "cell_type": "code",
   "execution_count": 62,
   "metadata": {
    "scrolled": true
   },
   "outputs": [
    {
     "data": {
      "text/plain": [
       "((1647, 5), (1637,))"
      ]
     },
     "execution_count": 62,
     "metadata": {},
     "output_type": "execute_result"
    }
   ],
   "source": [
    "X_train_values.shape, y_train.shape"
   ]
  },
  {
   "cell_type": "code",
   "execution_count": 63,
   "metadata": {},
   "outputs": [
    {
     "data": {
      "text/plain": [
       "((707, 5), (697,))"
      ]
     },
     "execution_count": 63,
     "metadata": {},
     "output_type": "execute_result"
    }
   ],
   "source": [
    "X_test_values.shape, y_test.shape"
   ]
  },
  {
   "cell_type": "code",
   "execution_count": 64,
   "metadata": {},
   "outputs": [
    {
     "data": {
      "text/plain": [
       "((697, 5), (697,))"
      ]
     },
     "execution_count": 64,
     "metadata": {},
     "output_type": "execute_result"
    }
   ],
   "source": [
    "datetime_difference = len(X_train_values) - len(y_train)\n",
    "X_train_values = X_train_values[datetime_difference:] # Correct for datetime difference, this is a dirty way of doing it\n",
    "X_train_values.shape, y_train.shape\n",
    "\n",
    "datetime_difference = len(X_test_values) - len(y_test)\n",
    "X_test_values = X_test_values[datetime_difference:] # Correct for datetime difference, this is a dirty way of doing it\n",
    "X_test_values.shape, y_test.shape"
   ]
  },
  {
   "cell_type": "code",
   "execution_count": 65,
   "metadata": {},
   "outputs": [
    {
     "data": {
      "text/html": [
       "<div>\n",
       "<style scoped>\n",
       "    .dataframe tbody tr th:only-of-type {\n",
       "        vertical-align: middle;\n",
       "    }\n",
       "\n",
       "    .dataframe tbody tr th {\n",
       "        vertical-align: top;\n",
       "    }\n",
       "\n",
       "    .dataframe thead th {\n",
       "        text-align: right;\n",
       "    }\n",
       "</style>\n",
       "<table border=\"1\" class=\"dataframe\">\n",
       "  <thead>\n",
       "    <tr style=\"text-align: right;\">\n",
       "      <th></th>\n",
       "      <th>Total amount Withdrawn</th>\n",
       "      <th>Weekday</th>\n",
       "      <th>Festival Religion</th>\n",
       "      <th>Working Day</th>\n",
       "      <th>Holiday Sequence</th>\n",
       "    </tr>\n",
       "    <tr>\n",
       "      <th>Transaction Date</th>\n",
       "      <th></th>\n",
       "      <th></th>\n",
       "      <th></th>\n",
       "      <th></th>\n",
       "      <th></th>\n",
       "    </tr>\n",
       "  </thead>\n",
       "  <tbody>\n",
       "    <tr>\n",
       "      <td>2015-08-09</td>\n",
       "      <td>609400</td>\n",
       "      <td>3</td>\n",
       "      <td>4</td>\n",
       "      <td>0</td>\n",
       "      <td>1</td>\n",
       "    </tr>\n",
       "    <tr>\n",
       "      <td>2015-08-10</td>\n",
       "      <td>412100</td>\n",
       "      <td>1</td>\n",
       "      <td>4</td>\n",
       "      <td>1</td>\n",
       "      <td>3</td>\n",
       "    </tr>\n",
       "    <tr>\n",
       "      <td>2015-08-11</td>\n",
       "      <td>542800</td>\n",
       "      <td>5</td>\n",
       "      <td>4</td>\n",
       "      <td>1</td>\n",
       "      <td>7</td>\n",
       "    </tr>\n",
       "    <tr>\n",
       "      <td>2015-08-12</td>\n",
       "      <td>479300</td>\n",
       "      <td>6</td>\n",
       "      <td>4</td>\n",
       "      <td>1</td>\n",
       "      <td>7</td>\n",
       "    </tr>\n",
       "    <tr>\n",
       "      <td>2015-08-13</td>\n",
       "      <td>311100</td>\n",
       "      <td>4</td>\n",
       "      <td>4</td>\n",
       "      <td>1</td>\n",
       "      <td>7</td>\n",
       "    </tr>\n",
       "    <tr>\n",
       "      <td>...</td>\n",
       "      <td>...</td>\n",
       "      <td>...</td>\n",
       "      <td>...</td>\n",
       "      <td>...</td>\n",
       "      <td>...</td>\n",
       "    </tr>\n",
       "    <tr>\n",
       "      <td>2017-09-25</td>\n",
       "      <td>513800</td>\n",
       "      <td>1</td>\n",
       "      <td>4</td>\n",
       "      <td>1</td>\n",
       "      <td>3</td>\n",
       "    </tr>\n",
       "    <tr>\n",
       "      <td>2017-09-26</td>\n",
       "      <td>437400</td>\n",
       "      <td>5</td>\n",
       "      <td>4</td>\n",
       "      <td>1</td>\n",
       "      <td>7</td>\n",
       "    </tr>\n",
       "    <tr>\n",
       "      <td>2017-09-27</td>\n",
       "      <td>511200</td>\n",
       "      <td>6</td>\n",
       "      <td>4</td>\n",
       "      <td>1</td>\n",
       "      <td>7</td>\n",
       "    </tr>\n",
       "    <tr>\n",
       "      <td>2017-09-28</td>\n",
       "      <td>468600</td>\n",
       "      <td>4</td>\n",
       "      <td>4</td>\n",
       "      <td>1</td>\n",
       "      <td>6</td>\n",
       "    </tr>\n",
       "    <tr>\n",
       "      <td>2017-09-29</td>\n",
       "      <td>468800</td>\n",
       "      <td>0</td>\n",
       "      <td>1</td>\n",
       "      <td>0</td>\n",
       "      <td>4</td>\n",
       "    </tr>\n",
       "  </tbody>\n",
       "</table>\n",
       "<p>697 rows × 5 columns</p>\n",
       "</div>"
      ],
      "text/plain": [
       "                  Total amount Withdrawn  Weekday  Festival Religion  \\\n",
       "Transaction Date                                                       \n",
       "2015-08-09                        609400        3                  4   \n",
       "2015-08-10                        412100        1                  4   \n",
       "2015-08-11                        542800        5                  4   \n",
       "2015-08-12                        479300        6                  4   \n",
       "2015-08-13                        311100        4                  4   \n",
       "...                                  ...      ...                ...   \n",
       "2017-09-25                        513800        1                  4   \n",
       "2017-09-26                        437400        5                  4   \n",
       "2017-09-27                        511200        6                  4   \n",
       "2017-09-28                        468600        4                  4   \n",
       "2017-09-29                        468800        0                  1   \n",
       "\n",
       "                  Working Day  Holiday Sequence  \n",
       "Transaction Date                                 \n",
       "2015-08-09                  0                 1  \n",
       "2015-08-10                  1                 3  \n",
       "2015-08-11                  1                 7  \n",
       "2015-08-12                  1                 7  \n",
       "2015-08-13                  1                 7  \n",
       "...                       ...               ...  \n",
       "2017-09-25                  1                 3  \n",
       "2017-09-26                  1                 7  \n",
       "2017-09-27                  1                 7  \n",
       "2017-09-28                  1                 6  \n",
       "2017-09-29                  0                 4  \n",
       "\n",
       "[697 rows x 5 columns]"
      ]
     },
     "execution_count": 65,
     "metadata": {},
     "output_type": "execute_result"
    }
   ],
   "source": [
    "X_test_values"
   ]
  },
  {
   "cell_type": "code",
   "execution_count": 66,
   "metadata": {},
   "outputs": [
    {
     "data": {
      "text/plain": [
       "<matplotlib.legend.Legend at 0x1bfc0797278>"
      ]
     },
     "execution_count": 66,
     "metadata": {},
     "output_type": "execute_result"
    },
    {
     "data": {
      "image/png": "[encoded data removed]",
      "text/plain": [
       "<Figure size 1440x720 with 1 Axes>"
      ]
     },
     "metadata": {
      "needs_background": "light"
     },
     "output_type": "display_data"
    }
   ],
   "source": [
    "plt.figure(figsize=(20,10))\n",
    "\n",
    "plt.plot(X_train_values.index, y_train, '.-', color='red', label='Train set', alpha=0.5)\n",
    "plt.plot(X_test_values.index, y_test, '.-', color='blue', label='Test set', alpha=0.5)\n",
    "\n",
    "plt.ylabel(r'Total Withdrawn' , fontsize=14)\n",
    "plt.xlabel('datetime [-]', fontsize=14) #TODO: set x values as actual dates\n",
    "\n",
    "plt.xticks(fontsize=14, rotation=45)\n",
    "plt.yticks(fontsize=14)\n",
    "\n",
    "plt.legend(loc='upper left', borderaxespad=0, frameon=False, fontsize=14, markerscale=3)"
   ]
  },
  {
   "cell_type": "code",
   "execution_count": 67,
   "metadata": {},
   "outputs": [],
   "source": [
    "def create_model():\n",
    "    model = Sequential()\n",
    "    model.add(CuDNNLSTM(4, input_shape=(look_back, num_features), return_sequences=True, kernel_initializer='TruncatedNormal'))\n",
    "    model.add(BatchNormalization())\n",
    "    model.add(LeakyReLU())\n",
    "    model.add(Dropout(0.391))\n",
    "    \n",
    "    #1\n",
    "    for _ in range(2):\n",
    "        model.add(CuDNNLSTM(4, kernel_initializer='TruncatedNormal', return_sequences=True))\n",
    "        model.add(BatchNormalization())\n",
    "        model.add(LeakyReLU())\n",
    "        model.add(Dropout(0.04))   \n",
    "\n",
    "    #2\n",
    "    model.add(CuDNNLSTM(32, kernel_initializer='TruncatedNormal', return_sequences=False))\n",
    "    model.add(BatchNormalization())\n",
    "    model.add(LeakyReLU())\n",
    "    model.add(Dropout(0.749))\n",
    "    \n",
    "    #3\n",
    "    for _ in range(0):\n",
    "        model.add(Dense(4, kernel_initializer='TruncatedNormal'))\n",
    "        model.add(BatchNormalization())\n",
    "        model.add(LeakyReLU())\n",
    "        model.add(Dropout(0.056))\n",
    "    #3\n",
    "    for _ in range(8):\n",
    "        model.add(Dense(256, kernel_initializer='TruncatedNormal'))\n",
    "        model.add(BatchNormalization())\n",
    "        model.add(LeakyReLU())\n",
    "        model.add(Dropout(0.212))\n",
    "    #4\n",
    "    for _ in range(1):\n",
    "        model.add(Dense(64, kernel_initializer='TruncatedNormal'))\n",
    "        model.add(BatchNormalization())\n",
    "        model.add(LeakyReLU())\n",
    "        model.add(Dropout(0.727))\n",
    "\n",
    "    #5\n",
    "    model.add(Dense(32, kernel_initializer='TruncatedNormal'))\n",
    "    model.add(BatchNormalization())\n",
    "    model.add(LeakyReLU())\n",
    "    model.add(Dropout(0.450))\n",
    "        \n",
    "    model.add(Dense(1))\n",
    "    \n",
    "    return model"
   ]
  },
  {
   "cell_type": "code",
   "execution_count": 68,
   "metadata": {},
   "outputs": [
    {
     "name": "stdout",
     "output_type": "stream",
     "text": [
      "256\n"
     ]
    }
   ],
   "source": [
    "epochs = 10**2\n",
    "bs = 256\n",
    "lr = 1e-1\n",
    "print(bs)"
   ]
  },
  {
   "cell_type": "code",
   "execution_count": 69,
   "metadata": {
    "scrolled": true
   },
   "outputs": [
    {
     "name": "stdout",
     "output_type": "stream",
     "text": [
      "WARNING:tensorflow:Large dropout rate: 0.749 (>0.5). In TensorFlow 2.x, dropout() uses dropout rate instead of keep_prob. Please ensure that this is intended.\n",
      "WARNING:tensorflow:Large dropout rate: 0.727 (>0.5). In TensorFlow 2.x, dropout() uses dropout rate instead of keep_prob. Please ensure that this is intended.\n"
     ]
    }
   ],
   "source": [
    "# 0.05 0.9 0 True\n",
    "sgd = SGD(lr=0.5, momentum=0.9, decay=0, nesterov=True) # sgd in general yields better results, but needs a lot of tweeking and is slower\n",
    "adam = Adam(lr=lr)\n",
    "nadam = Nadam(lr=lr)\n",
    "\n",
    "model = create_model()\n",
    "\n",
    "# compile & fit\n",
    "model.compile(optimizer='adam', loss = ['mse'], metrics=['mape', 'mse'])"
   ]
  },
  {
   "cell_type": "code",
   "execution_count": 70,
   "metadata": {},
   "outputs": [],
   "source": [
    "from keras.callbacks import Callback\n",
    "import keras.backend as K"
   ]
  },
  {
   "cell_type": "code",
   "execution_count": 71,
   "metadata": {},
   "outputs": [],
   "source": [
    "from keras.callbacks import Callback\n",
    "import keras.backend as K\n",
    "import numpy as np\n",
    "\n",
    "class SGDRScheduler(Callback):\n",
    "    '''Cosine annealing learning rate scheduler with periodic restarts.\n",
    "    # Usage\n",
    "        ```python\n",
    "            schedule = SGDRScheduler(min_lr=1e-5,\n",
    "                                     max_lr=1e-2,\n",
    "                                     steps_per_epoch=np.ceil(epoch_size/batch_size),\n",
    "                                     lr_decay=0.9,\n",
    "                                     cycle_length=5,\n",
    "                                     mult_factor=1.5)\n",
    "            model.fit(X_train, Y_train, epochs=100, callbacks=[schedule])\n",
    "        ```\n",
    "    # Arguments\n",
    "        min_lr: The lower bound of the learning rate range for the experiment.\n",
    "        max_lr: The upper bound of the learning rate range for the experiment.\n",
    "        steps_per_epoch: Number of mini-batches in the dataset. Calculated as `np.ceil(epoch_size/batch_size)`. \n",
    "        lr_decay: Reduce the max_lr after the completion of each cycle.\n",
    "                  Ex. To reduce the max_lr by 20% after each cycle, set this value to 0.8.\n",
    "        cycle_length: Initial number of epochs in a cycle.\n",
    "        mult_factor: Scale epochs_to_restart after each full cycle completion.\n",
    "    # References\n",
    "        Blog post: jeremyjordan.me/nn-learning-rate\n",
    "        Original paper: http://arxiv.org/abs/1608.03983\n",
    "    '''\n",
    "    def __init__(self,\n",
    "                 min_lr,\n",
    "                 max_lr,\n",
    "                 steps_per_epoch,\n",
    "                 lr_decay=1,\n",
    "                 cycle_length=10,\n",
    "                 mult_factor=2):\n",
    "\n",
    "        self.min_lr = min_lr\n",
    "        self.max_lr = max_lr\n",
    "        self.lr_decay = lr_decay\n",
    "        self.batch_since_restart = 0\n",
    "        self.next_restart = cycle_length\n",
    "        self.steps_per_epoch = steps_per_epoch\n",
    "        self.cycle_length = cycle_length\n",
    "        self.mult_factor = mult_factor\n",
    "        self.history = {}\n",
    "        \n",
    "    def clr(self):\n",
    "        '''Calculate the learning rate.'''\n",
    "        fraction_to_restart = self.batch_since_restart / (self.steps_per_epoch * self.cycle_length)\n",
    "        lr = self.min_lr + 0.5 * (self.max_lr - self.min_lr) * (1 + np.cos(fraction_to_restart * np.pi))\n",
    "        return lr\n",
    "\n",
    "    def on_train_begin(self, logs={}):\n",
    "        '''Initialize the learning rate to the minimum value at the start of training.'''\n",
    "        logs = logs or {}\n",
    "        K.set_value(self.model.optimizer.lr, self.max_lr)\n",
    "\n",
    "    def on_batch_end(self, batch, logs={}):\n",
    "        '''Record previous batch statistics and update the learning rate.'''\n",
    "        logs = logs or {}\n",
    "        self.history.setdefault('lr', []).append(K.get_value(self.model.optimizer.lr))\n",
    "        for k, v in logs.items():\n",
    "            self.history.setdefault(k, []).append(v)\n",
    "        self.batch_since_restart += 1\n",
    "        K.set_value(self.model.optimizer.lr, self.clr())\n",
    "\n",
    "    def on_epoch_end(self, epoch, logs={}):\n",
    "        '''Check for end of current cycle, apply restarts when necessary.'''\n",
    "        if epoch + 1 == self.next_restart:\n",
    "            self.batch_since_restart = 0\n",
    "            self.cycle_length = np.ceil(self.cycle_length * self.mult_factor)\n",
    "            self.next_restart += self.cycle_length\n",
    "            self.max_lr *= self.lr_decay\n",
    "            self.best_weights = self.model.get_weights()\n",
    "            \n",
    "    def on_train_end(self, logs={}):\n",
    "        '''Set weights to the values from the end of the most recent cycle for best performance.'''\n",
    "        self.model.set_weights(self.best_weights)"
   ]
  },
  {
   "cell_type": "code",
   "execution_count": 111,
   "metadata": {},
   "outputs": [],
   "source": [
    "import os\n",
    "os.environ[\"CUDA_DEVICE_ORDER\"] = \"PCI_BUS_ID\"   # see issue #152\n",
    "os.environ[\"CUDA_VISIBLE_DEVICES\"] = \"\""
   ]
  },
  {
   "cell_type": "code",
   "execution_count": 129,
   "metadata": {},
   "outputs": [],
   "source": [
    "import os\n",
    "os.environ['CUDA_VISIBLE_DEVICES'] = '-1'"
   ]
  },
  {
   "cell_type": "code",
   "execution_count": 75,
   "metadata": {},
   "outputs": [
    {
     "ename": "InvalidArgumentError",
     "evalue": "No OpKernel was registered to support Op 'CudnnRNN' used by node cu_dnnlstm_1/CudnnRNN (defined at C:\\Users\\LENOVO\\Anaconda3\\envs\\sam01\\lib\\site-packages\\keras\\layers\\cudnn_recurrent.py:517) with these attrs: [seed=87654321, dropout=0, T=DT_FLOAT, input_mode=\"linear_input\", direction=\"unidirectional\", rnn_mode=\"lstm\", is_training=true, seed2=0]\nRegistered devices: [CPU]\nRegistered kernels:\n  <no registered kernels>\n\n\t [[cu_dnnlstm_1/CudnnRNN]]\n\nErrors may have originated from an input operation.\nInput Source operations connected to node cu_dnnlstm_1/CudnnRNN:\n cu_dnnlstm_1/ExpandDims_2 (defined at C:\\Users\\LENOVO\\Anaconda3\\envs\\sam01\\lib\\site-packages\\keras\\layers\\cudnn_recurrent.py:488)\t\n cu_dnnlstm_1/transpose (defined at C:\\Users\\LENOVO\\Anaconda3\\envs\\sam01\\lib\\site-packages\\keras\\layers\\cudnn_recurrent.py:484)\t\n cu_dnnlstm_1/ExpandDims_1 (defined at C:\\Users\\LENOVO\\Anaconda3\\envs\\sam01\\lib\\site-packages\\keras\\layers\\cudnn_recurrent.py:487)\t\n cu_dnnlstm_1/concat_1 (defined at C:\\Users\\LENOVO\\Anaconda3\\envs\\sam01\\lib\\site-packages\\keras\\layers\\cudnn_recurrent.py:60)",
     "output_type": "error",
     "traceback": [
      "\u001b[1;31m---------------------------------------------------------------------------\u001b[0m",
      "\u001b[1;31mInvalidArgumentError\u001b[0m                      Traceback (most recent call last)",
      "\u001b[1;32m~\\Anaconda3\\envs\\sam01\\lib\\site-packages\\tensorflow\\python\\client\\session.py\u001b[0m in \u001b[0;36m_do_call\u001b[1;34m(self, fn, *args)\u001b[0m\n\u001b[0;32m   1355\u001b[0m     \u001b[1;32mtry\u001b[0m\u001b[1;33m:\u001b[0m\u001b[1;33m\u001b[0m\u001b[1;33m\u001b[0m\u001b[0m\n\u001b[1;32m-> 1356\u001b[1;33m       \u001b[1;32mreturn\u001b[0m \u001b[0mfn\u001b[0m\u001b[1;33m(\u001b[0m\u001b[1;33m*\u001b[0m\u001b[0margs\u001b[0m\u001b[1;33m)\u001b[0m\u001b[1;33m\u001b[0m\u001b[1;33m\u001b[0m\u001b[0m\n\u001b[0m\u001b[0;32m   1357\u001b[0m     \u001b[1;32mexcept\u001b[0m \u001b[0merrors\u001b[0m\u001b[1;33m.\u001b[0m\u001b[0mOpError\u001b[0m \u001b[1;32mas\u001b[0m \u001b[0me\u001b[0m\u001b[1;33m:\u001b[0m\u001b[1;33m\u001b[0m\u001b[1;33m\u001b[0m\u001b[0m\n",
      "\u001b[1;32m~\\Anaconda3\\envs\\sam01\\lib\\site-packages\\tensorflow\\python\\client\\session.py\u001b[0m in \u001b[0;36m_run_fn\u001b[1;34m(feed_dict, fetch_list, target_list, options, run_metadata)\u001b[0m\n\u001b[0;32m   1338\u001b[0m       \u001b[1;31m# Ensure any changes to the graph are reflected in the runtime.\u001b[0m\u001b[1;33m\u001b[0m\u001b[1;33m\u001b[0m\u001b[1;33m\u001b[0m\u001b[0m\n\u001b[1;32m-> 1339\u001b[1;33m       \u001b[0mself\u001b[0m\u001b[1;33m.\u001b[0m\u001b[0m_extend_graph\u001b[0m\u001b[1;33m(\u001b[0m\u001b[1;33m)\u001b[0m\u001b[1;33m\u001b[0m\u001b[1;33m\u001b[0m\u001b[0m\n\u001b[0m\u001b[0;32m   1340\u001b[0m       return self._call_tf_sessionrun(\n",
      "\u001b[1;32m~\\Anaconda3\\envs\\sam01\\lib\\site-packages\\tensorflow\\python\\client\\session.py\u001b[0m in \u001b[0;36m_extend_graph\u001b[1;34m(self)\u001b[0m\n\u001b[0;32m   1373\u001b[0m     \u001b[1;32mwith\u001b[0m \u001b[0mself\u001b[0m\u001b[1;33m.\u001b[0m\u001b[0m_graph\u001b[0m\u001b[1;33m.\u001b[0m\u001b[0m_session_run_lock\u001b[0m\u001b[1;33m(\u001b[0m\u001b[1;33m)\u001b[0m\u001b[1;33m:\u001b[0m  \u001b[1;31m# pylint: disable=protected-access\u001b[0m\u001b[1;33m\u001b[0m\u001b[1;33m\u001b[0m\u001b[0m\n\u001b[1;32m-> 1374\u001b[1;33m       \u001b[0mtf_session\u001b[0m\u001b[1;33m.\u001b[0m\u001b[0mExtendSession\u001b[0m\u001b[1;33m(\u001b[0m\u001b[0mself\u001b[0m\u001b[1;33m.\u001b[0m\u001b[0m_session\u001b[0m\u001b[1;33m)\u001b[0m\u001b[1;33m\u001b[0m\u001b[1;33m\u001b[0m\u001b[0m\n\u001b[0m\u001b[0;32m   1375\u001b[0m \u001b[1;33m\u001b[0m\u001b[0m\n",
      "\u001b[1;31mInvalidArgumentError\u001b[0m: No OpKernel was registered to support Op 'CudnnRNN' used by {{node cu_dnnlstm_1/CudnnRNN}}with these attrs: [seed=87654321, dropout=0, T=DT_FLOAT, input_mode=\"linear_input\", direction=\"unidirectional\", rnn_mode=\"lstm\", is_training=true, seed2=0]\nRegistered devices: [CPU]\nRegistered kernels:\n  <no registered kernels>\n\n\t [[cu_dnnlstm_1/CudnnRNN]]",
      "\nDuring handling of the above exception, another exception occurred:\n",
      "\u001b[1;31mInvalidArgumentError\u001b[0m                      Traceback (most recent call last)",
      "\u001b[1;32m<ipython-input-75-c0f2fb15d048>\u001b[0m in \u001b[0;36m<module>\u001b[1;34m\u001b[0m\n\u001b[0;32m     14\u001b[0m                                      mult_factor=1.5)\n\u001b[0;32m     15\u001b[0m \u001b[1;33m\u001b[0m\u001b[0m\n\u001b[1;32m---> 16\u001b[1;33m \u001b[0mmodel\u001b[0m\u001b[1;33m.\u001b[0m\u001b[0mfit\u001b[0m\u001b[1;33m(\u001b[0m\u001b[0mX_train\u001b[0m\u001b[1;33m,\u001b[0m \u001b[0my_train\u001b[0m\u001b[1;33m,\u001b[0m \u001b[0mepochs\u001b[0m\u001b[1;33m=\u001b[0m\u001b[0mepochs\u001b[0m\u001b[1;33m,\u001b[0m \u001b[0mbatch_size\u001b[0m\u001b[1;33m=\u001b[0m\u001b[0mbs\u001b[0m\u001b[1;33m,\u001b[0m\u001b[0mverbose\u001b[0m\u001b[1;33m=\u001b[0m\u001b[1;36m1\u001b[0m\u001b[1;33m)\u001b[0m\u001b[1;33m\u001b[0m\u001b[1;33m\u001b[0m\u001b[0m\n\u001b[0m\u001b[0;32m     17\u001b[0m \u001b[1;33m\u001b[0m\u001b[0m\n\u001b[0;32m     18\u001b[0m \u001b[0mprint\u001b[0m\u001b[1;33m(\u001b[0m\u001b[0mmodel\u001b[0m\u001b[1;33m.\u001b[0m\u001b[0msummary\u001b[0m\u001b[1;33m(\u001b[0m\u001b[1;33m)\u001b[0m\u001b[1;33m)\u001b[0m\u001b[1;33m\u001b[0m\u001b[1;33m\u001b[0m\u001b[0m\n",
      "\u001b[1;32m~\\Anaconda3\\envs\\sam01\\lib\\site-packages\\keras\\engine\\training.py\u001b[0m in \u001b[0;36mfit\u001b[1;34m(self, x, y, batch_size, epochs, verbose, callbacks, validation_split, validation_data, shuffle, class_weight, sample_weight, initial_epoch, steps_per_epoch, validation_steps, validation_freq, max_queue_size, workers, use_multiprocessing, **kwargs)\u001b[0m\n\u001b[0;32m   1211\u001b[0m         \u001b[1;32melse\u001b[0m\u001b[1;33m:\u001b[0m\u001b[1;33m\u001b[0m\u001b[1;33m\u001b[0m\u001b[0m\n\u001b[0;32m   1212\u001b[0m             \u001b[0mfit_inputs\u001b[0m \u001b[1;33m=\u001b[0m \u001b[0mx\u001b[0m \u001b[1;33m+\u001b[0m \u001b[0my\u001b[0m \u001b[1;33m+\u001b[0m \u001b[0msample_weights\u001b[0m\u001b[1;33m\u001b[0m\u001b[1;33m\u001b[0m\u001b[0m\n\u001b[1;32m-> 1213\u001b[1;33m         \u001b[0mself\u001b[0m\u001b[1;33m.\u001b[0m\u001b[0m_make_train_function\u001b[0m\u001b[1;33m(\u001b[0m\u001b[1;33m)\u001b[0m\u001b[1;33m\u001b[0m\u001b[1;33m\u001b[0m\u001b[0m\n\u001b[0m\u001b[0;32m   1214\u001b[0m         \u001b[0mfit_function\u001b[0m \u001b[1;33m=\u001b[0m \u001b[0mself\u001b[0m\u001b[1;33m.\u001b[0m\u001b[0mtrain_function\u001b[0m\u001b[1;33m\u001b[0m\u001b[1;33m\u001b[0m\u001b[0m\n\u001b[0;32m   1215\u001b[0m \u001b[1;33m\u001b[0m\u001b[0m\n",
      "\u001b[1;32m~\\Anaconda3\\envs\\sam01\\lib\\site-packages\\keras\\engine\\training.py\u001b[0m in \u001b[0;36m_make_train_function\u001b[1;34m(self)\u001b[0m\n\u001b[0;32m    331\u001b[0m                     \u001b[0mupdates\u001b[0m\u001b[1;33m=\u001b[0m\u001b[0mupdates\u001b[0m \u001b[1;33m+\u001b[0m \u001b[0mmetrics_updates\u001b[0m\u001b[1;33m,\u001b[0m\u001b[1;33m\u001b[0m\u001b[1;33m\u001b[0m\u001b[0m\n\u001b[0;32m    332\u001b[0m                     \u001b[0mname\u001b[0m\u001b[1;33m=\u001b[0m\u001b[1;34m'train_function'\u001b[0m\u001b[1;33m,\u001b[0m\u001b[1;33m\u001b[0m\u001b[1;33m\u001b[0m\u001b[0m\n\u001b[1;32m--> 333\u001b[1;33m                     **self._function_kwargs)\n\u001b[0m\u001b[0;32m    334\u001b[0m \u001b[1;33m\u001b[0m\u001b[0m\n\u001b[0;32m    335\u001b[0m     \u001b[1;32mdef\u001b[0m \u001b[0m_make_test_function\u001b[0m\u001b[1;33m(\u001b[0m\u001b[0mself\u001b[0m\u001b[1;33m)\u001b[0m\u001b[1;33m:\u001b[0m\u001b[1;33m\u001b[0m\u001b[1;33m\u001b[0m\u001b[0m\n",
      "\u001b[1;32m~\\Anaconda3\\envs\\sam01\\lib\\site-packages\\keras\\backend\\tensorflow_backend.py\u001b[0m in \u001b[0;36mfunction\u001b[1;34m(inputs, outputs, updates, **kwargs)\u001b[0m\n\u001b[0;32m   3004\u001b[0m \u001b[1;32mdef\u001b[0m \u001b[0mfunction\u001b[0m\u001b[1;33m(\u001b[0m\u001b[0minputs\u001b[0m\u001b[1;33m,\u001b[0m \u001b[0moutputs\u001b[0m\u001b[1;33m,\u001b[0m \u001b[0mupdates\u001b[0m\u001b[1;33m=\u001b[0m\u001b[1;32mNone\u001b[0m\u001b[1;33m,\u001b[0m \u001b[1;33m**\u001b[0m\u001b[0mkwargs\u001b[0m\u001b[1;33m)\u001b[0m\u001b[1;33m:\u001b[0m\u001b[1;33m\u001b[0m\u001b[1;33m\u001b[0m\u001b[0m\n\u001b[0;32m   3005\u001b[0m     \u001b[1;32mif\u001b[0m \u001b[0m_is_tf_1\u001b[0m\u001b[1;33m(\u001b[0m\u001b[1;33m)\u001b[0m\u001b[1;33m:\u001b[0m\u001b[1;33m\u001b[0m\u001b[1;33m\u001b[0m\u001b[0m\n\u001b[1;32m-> 3006\u001b[1;33m         \u001b[0mv1_variable_initialization\u001b[0m\u001b[1;33m(\u001b[0m\u001b[1;33m)\u001b[0m\u001b[1;33m\u001b[0m\u001b[1;33m\u001b[0m\u001b[0m\n\u001b[0m\u001b[0;32m   3007\u001b[0m     return tf_keras_backend.function(inputs, outputs,\n\u001b[0;32m   3008\u001b[0m                                      \u001b[0mupdates\u001b[0m\u001b[1;33m=\u001b[0m\u001b[0mupdates\u001b[0m\u001b[1;33m,\u001b[0m\u001b[1;33m\u001b[0m\u001b[1;33m\u001b[0m\u001b[0m\n",
      "\u001b[1;32m~\\Anaconda3\\envs\\sam01\\lib\\site-packages\\keras\\backend\\tensorflow_backend.py\u001b[0m in \u001b[0;36mv1_variable_initialization\u001b[1;34m()\u001b[0m\n\u001b[0;32m    418\u001b[0m \u001b[1;33m\u001b[0m\u001b[0m\n\u001b[0;32m    419\u001b[0m \u001b[1;32mdef\u001b[0m \u001b[0mv1_variable_initialization\u001b[0m\u001b[1;33m(\u001b[0m\u001b[1;33m)\u001b[0m\u001b[1;33m:\u001b[0m\u001b[1;33m\u001b[0m\u001b[1;33m\u001b[0m\u001b[0m\n\u001b[1;32m--> 420\u001b[1;33m     \u001b[0msession\u001b[0m \u001b[1;33m=\u001b[0m \u001b[0mget_session\u001b[0m\u001b[1;33m(\u001b[0m\u001b[1;33m)\u001b[0m\u001b[1;33m\u001b[0m\u001b[1;33m\u001b[0m\u001b[0m\n\u001b[0m\u001b[0;32m    421\u001b[0m     \u001b[1;32mwith\u001b[0m \u001b[0msession\u001b[0m\u001b[1;33m.\u001b[0m\u001b[0mgraph\u001b[0m\u001b[1;33m.\u001b[0m\u001b[0mas_default\u001b[0m\u001b[1;33m(\u001b[0m\u001b[1;33m)\u001b[0m\u001b[1;33m:\u001b[0m\u001b[1;33m\u001b[0m\u001b[1;33m\u001b[0m\u001b[0m\n\u001b[0;32m    422\u001b[0m         \u001b[0mvariables\u001b[0m \u001b[1;33m=\u001b[0m \u001b[0mtf\u001b[0m\u001b[1;33m.\u001b[0m\u001b[0mglobal_variables\u001b[0m\u001b[1;33m(\u001b[0m\u001b[1;33m)\u001b[0m\u001b[1;33m\u001b[0m\u001b[1;33m\u001b[0m\u001b[0m\n",
      "\u001b[1;32m~\\Anaconda3\\envs\\sam01\\lib\\site-packages\\keras\\backend\\tensorflow_backend.py\u001b[0m in \u001b[0;36mget_session\u001b[1;34m()\u001b[0m\n\u001b[0;32m    383\u001b[0m             \u001b[1;34m'`get_session` is not available when '\u001b[0m\u001b[1;33m\u001b[0m\u001b[1;33m\u001b[0m\u001b[0m\n\u001b[0;32m    384\u001b[0m             'TensorFlow is executing eagerly.')\n\u001b[1;32m--> 385\u001b[1;33m     \u001b[1;32mreturn\u001b[0m \u001b[0mtf_keras_backend\u001b[0m\u001b[1;33m.\u001b[0m\u001b[0mget_session\u001b[0m\u001b[1;33m(\u001b[0m\u001b[1;33m)\u001b[0m\u001b[1;33m\u001b[0m\u001b[1;33m\u001b[0m\u001b[0m\n\u001b[0m\u001b[0;32m    386\u001b[0m \u001b[1;33m\u001b[0m\u001b[0m\n\u001b[0;32m    387\u001b[0m \u001b[1;33m\u001b[0m\u001b[0m\n",
      "\u001b[1;32m~\\Anaconda3\\envs\\sam01\\lib\\site-packages\\tensorflow\\python\\keras\\backend.py\u001b[0m in \u001b[0;36mget_session\u001b[1;34m(op_input_list)\u001b[0m\n\u001b[0;32m    460\u001b[0m   \u001b[1;32mif\u001b[0m \u001b[1;32mnot\u001b[0m \u001b[0m_MANUAL_VAR_INIT\u001b[0m\u001b[1;33m:\u001b[0m\u001b[1;33m\u001b[0m\u001b[1;33m\u001b[0m\u001b[0m\n\u001b[0;32m    461\u001b[0m     \u001b[1;32mwith\u001b[0m \u001b[0msession\u001b[0m\u001b[1;33m.\u001b[0m\u001b[0mgraph\u001b[0m\u001b[1;33m.\u001b[0m\u001b[0mas_default\u001b[0m\u001b[1;33m(\u001b[0m\u001b[1;33m)\u001b[0m\u001b[1;33m:\u001b[0m\u001b[1;33m\u001b[0m\u001b[1;33m\u001b[0m\u001b[0m\n\u001b[1;32m--> 462\u001b[1;33m       \u001b[0m_initialize_variables\u001b[0m\u001b[1;33m(\u001b[0m\u001b[0msession\u001b[0m\u001b[1;33m)\u001b[0m\u001b[1;33m\u001b[0m\u001b[1;33m\u001b[0m\u001b[0m\n\u001b[0m\u001b[0;32m    463\u001b[0m   \u001b[1;32mreturn\u001b[0m \u001b[0msession\u001b[0m\u001b[1;33m\u001b[0m\u001b[1;33m\u001b[0m\u001b[0m\n\u001b[0;32m    464\u001b[0m \u001b[1;33m\u001b[0m\u001b[0m\n",
      "\u001b[1;32m~\\Anaconda3\\envs\\sam01\\lib\\site-packages\\tensorflow\\python\\keras\\backend.py\u001b[0m in \u001b[0;36m_initialize_variables\u001b[1;34m(session)\u001b[0m\n\u001b[0;32m    877\u001b[0m     \u001b[1;31m# marked as initialized.\u001b[0m\u001b[1;33m\u001b[0m\u001b[1;33m\u001b[0m\u001b[1;33m\u001b[0m\u001b[0m\n\u001b[0;32m    878\u001b[0m     is_initialized = session.run(\n\u001b[1;32m--> 879\u001b[1;33m         [variables_module.is_variable_initialized(v) for v in candidate_vars])\n\u001b[0m\u001b[0;32m    880\u001b[0m     \u001b[0muninitialized_vars\u001b[0m \u001b[1;33m=\u001b[0m \u001b[1;33m[\u001b[0m\u001b[1;33m]\u001b[0m\u001b[1;33m\u001b[0m\u001b[1;33m\u001b[0m\u001b[0m\n\u001b[0;32m    881\u001b[0m     \u001b[1;32mfor\u001b[0m \u001b[0mflag\u001b[0m\u001b[1;33m,\u001b[0m \u001b[0mv\u001b[0m \u001b[1;32min\u001b[0m \u001b[0mzip\u001b[0m\u001b[1;33m(\u001b[0m\u001b[0mis_initialized\u001b[0m\u001b[1;33m,\u001b[0m \u001b[0mcandidate_vars\u001b[0m\u001b[1;33m)\u001b[0m\u001b[1;33m:\u001b[0m\u001b[1;33m\u001b[0m\u001b[1;33m\u001b[0m\u001b[0m\n",
      "\u001b[1;32m~\\Anaconda3\\envs\\sam01\\lib\\site-packages\\tensorflow\\python\\client\\session.py\u001b[0m in \u001b[0;36mrun\u001b[1;34m(self, fetches, feed_dict, options, run_metadata)\u001b[0m\n\u001b[0;32m    948\u001b[0m     \u001b[1;32mtry\u001b[0m\u001b[1;33m:\u001b[0m\u001b[1;33m\u001b[0m\u001b[1;33m\u001b[0m\u001b[0m\n\u001b[0;32m    949\u001b[0m       result = self._run(None, fetches, feed_dict, options_ptr,\n\u001b[1;32m--> 950\u001b[1;33m                          run_metadata_ptr)\n\u001b[0m\u001b[0;32m    951\u001b[0m       \u001b[1;32mif\u001b[0m \u001b[0mrun_metadata\u001b[0m\u001b[1;33m:\u001b[0m\u001b[1;33m\u001b[0m\u001b[1;33m\u001b[0m\u001b[0m\n\u001b[0;32m    952\u001b[0m         \u001b[0mproto_data\u001b[0m \u001b[1;33m=\u001b[0m \u001b[0mtf_session\u001b[0m\u001b[1;33m.\u001b[0m\u001b[0mTF_GetBuffer\u001b[0m\u001b[1;33m(\u001b[0m\u001b[0mrun_metadata_ptr\u001b[0m\u001b[1;33m)\u001b[0m\u001b[1;33m\u001b[0m\u001b[1;33m\u001b[0m\u001b[0m\n",
      "\u001b[1;32m~\\Anaconda3\\envs\\sam01\\lib\\site-packages\\tensorflow\\python\\client\\session.py\u001b[0m in \u001b[0;36m_run\u001b[1;34m(self, handle, fetches, feed_dict, options, run_metadata)\u001b[0m\n\u001b[0;32m   1171\u001b[0m     \u001b[1;32mif\u001b[0m \u001b[0mfinal_fetches\u001b[0m \u001b[1;32mor\u001b[0m \u001b[0mfinal_targets\u001b[0m \u001b[1;32mor\u001b[0m \u001b[1;33m(\u001b[0m\u001b[0mhandle\u001b[0m \u001b[1;32mand\u001b[0m \u001b[0mfeed_dict_tensor\u001b[0m\u001b[1;33m)\u001b[0m\u001b[1;33m:\u001b[0m\u001b[1;33m\u001b[0m\u001b[1;33m\u001b[0m\u001b[0m\n\u001b[0;32m   1172\u001b[0m       results = self._do_run(handle, final_targets, final_fetches,\n\u001b[1;32m-> 1173\u001b[1;33m                              feed_dict_tensor, options, run_metadata)\n\u001b[0m\u001b[0;32m   1174\u001b[0m     \u001b[1;32melse\u001b[0m\u001b[1;33m:\u001b[0m\u001b[1;33m\u001b[0m\u001b[1;33m\u001b[0m\u001b[0m\n\u001b[0;32m   1175\u001b[0m       \u001b[0mresults\u001b[0m \u001b[1;33m=\u001b[0m \u001b[1;33m[\u001b[0m\u001b[1;33m]\u001b[0m\u001b[1;33m\u001b[0m\u001b[1;33m\u001b[0m\u001b[0m\n",
      "\u001b[1;32m~\\Anaconda3\\envs\\sam01\\lib\\site-packages\\tensorflow\\python\\client\\session.py\u001b[0m in \u001b[0;36m_do_run\u001b[1;34m(self, handle, target_list, fetch_list, feed_dict, options, run_metadata)\u001b[0m\n\u001b[0;32m   1348\u001b[0m     \u001b[1;32mif\u001b[0m \u001b[0mhandle\u001b[0m \u001b[1;32mis\u001b[0m \u001b[1;32mNone\u001b[0m\u001b[1;33m:\u001b[0m\u001b[1;33m\u001b[0m\u001b[1;33m\u001b[0m\u001b[0m\n\u001b[0;32m   1349\u001b[0m       return self._do_call(_run_fn, feeds, fetches, targets, options,\n\u001b[1;32m-> 1350\u001b[1;33m                            run_metadata)\n\u001b[0m\u001b[0;32m   1351\u001b[0m     \u001b[1;32melse\u001b[0m\u001b[1;33m:\u001b[0m\u001b[1;33m\u001b[0m\u001b[1;33m\u001b[0m\u001b[0m\n\u001b[0;32m   1352\u001b[0m       \u001b[1;32mreturn\u001b[0m \u001b[0mself\u001b[0m\u001b[1;33m.\u001b[0m\u001b[0m_do_call\u001b[0m\u001b[1;33m(\u001b[0m\u001b[0m_prun_fn\u001b[0m\u001b[1;33m,\u001b[0m \u001b[0mhandle\u001b[0m\u001b[1;33m,\u001b[0m \u001b[0mfeeds\u001b[0m\u001b[1;33m,\u001b[0m \u001b[0mfetches\u001b[0m\u001b[1;33m)\u001b[0m\u001b[1;33m\u001b[0m\u001b[1;33m\u001b[0m\u001b[0m\n",
      "\u001b[1;32m~\\Anaconda3\\envs\\sam01\\lib\\site-packages\\tensorflow\\python\\client\\session.py\u001b[0m in \u001b[0;36m_do_call\u001b[1;34m(self, fn, *args)\u001b[0m\n\u001b[0;32m   1368\u001b[0m           \u001b[1;32mpass\u001b[0m\u001b[1;33m\u001b[0m\u001b[1;33m\u001b[0m\u001b[0m\n\u001b[0;32m   1369\u001b[0m       \u001b[0mmessage\u001b[0m \u001b[1;33m=\u001b[0m \u001b[0merror_interpolation\u001b[0m\u001b[1;33m.\u001b[0m\u001b[0minterpolate\u001b[0m\u001b[1;33m(\u001b[0m\u001b[0mmessage\u001b[0m\u001b[1;33m,\u001b[0m \u001b[0mself\u001b[0m\u001b[1;33m.\u001b[0m\u001b[0m_graph\u001b[0m\u001b[1;33m)\u001b[0m\u001b[1;33m\u001b[0m\u001b[1;33m\u001b[0m\u001b[0m\n\u001b[1;32m-> 1370\u001b[1;33m       \u001b[1;32mraise\u001b[0m \u001b[0mtype\u001b[0m\u001b[1;33m(\u001b[0m\u001b[0me\u001b[0m\u001b[1;33m)\u001b[0m\u001b[1;33m(\u001b[0m\u001b[0mnode_def\u001b[0m\u001b[1;33m,\u001b[0m \u001b[0mop\u001b[0m\u001b[1;33m,\u001b[0m \u001b[0mmessage\u001b[0m\u001b[1;33m)\u001b[0m\u001b[1;33m\u001b[0m\u001b[1;33m\u001b[0m\u001b[0m\n\u001b[0m\u001b[0;32m   1371\u001b[0m \u001b[1;33m\u001b[0m\u001b[0m\n\u001b[0;32m   1372\u001b[0m   \u001b[1;32mdef\u001b[0m \u001b[0m_extend_graph\u001b[0m\u001b[1;33m(\u001b[0m\u001b[0mself\u001b[0m\u001b[1;33m)\u001b[0m\u001b[1;33m:\u001b[0m\u001b[1;33m\u001b[0m\u001b[1;33m\u001b[0m\u001b[0m\n",
      "\u001b[1;31mInvalidArgumentError\u001b[0m: No OpKernel was registered to support Op 'CudnnRNN' used by node cu_dnnlstm_1/CudnnRNN (defined at C:\\Users\\LENOVO\\Anaconda3\\envs\\sam01\\lib\\site-packages\\keras\\layers\\cudnn_recurrent.py:517) with these attrs: [seed=87654321, dropout=0, T=DT_FLOAT, input_mode=\"linear_input\", direction=\"unidirectional\", rnn_mode=\"lstm\", is_training=true, seed2=0]\nRegistered devices: [CPU]\nRegistered kernels:\n  <no registered kernels>\n\n\t [[cu_dnnlstm_1/CudnnRNN]]\n\nErrors may have originated from an input operation.\nInput Source operations connected to node cu_dnnlstm_1/CudnnRNN:\n cu_dnnlstm_1/ExpandDims_2 (defined at C:\\Users\\LENOVO\\Anaconda3\\envs\\sam01\\lib\\site-packages\\keras\\layers\\cudnn_recurrent.py:488)\t\n cu_dnnlstm_1/transpose (defined at C:\\Users\\LENOVO\\Anaconda3\\envs\\sam01\\lib\\site-packages\\keras\\layers\\cudnn_recurrent.py:484)\t\n cu_dnnlstm_1/ExpandDims_1 (defined at C:\\Users\\LENOVO\\Anaconda3\\envs\\sam01\\lib\\site-packages\\keras\\layers\\cudnn_recurrent.py:487)\t\n cu_dnnlstm_1/concat_1 (defined at C:\\Users\\LENOVO\\Anaconda3\\envs\\sam01\\lib\\site-packages\\keras\\layers\\cudnn_recurrent.py:60)"
     ]
    }
   ],
   "source": [
    "early_stopping_monitor = EarlyStopping(patience=5000)\n",
    "\n",
    "# This is used to save the best model, currently monitoring val_mape\n",
    "# checkpoint\n",
    "filepath=\"models\\\\LSTM.best.hdf5\"\n",
    "checkpoint = ModelCheckpoint(filepath, monitor='val_mape', verbose=1, save_best_only=True, mode='min')\n",
    "\n",
    "epoch_size = 14\n",
    "schedule = SGDRScheduler(min_lr=2.3e-6, #1e-5\n",
    "                                     max_lr=3.5e-2, # 1e-2\n",
    "                                     steps_per_epoch=np.ceil(epoch_size/bs),\n",
    "                                     lr_decay=0.9,\n",
    "                                     cycle_length=5, # 5\n",
    "                                     mult_factor=1.5)\n",
    "\n",
    "model.fit(X_train, y_train, epochs=epochs, batch_size=bs, validation_split=0.2,verbose=1, callbacks=[PlotLossesKeras(), early_stopping_monitor, checkpoint,schedule])\n",
    " \n",
    "print(model.summary())"
   ]
  },
  {
   "cell_type": "code",
   "execution_count": null,
   "metadata": {},
   "outputs": [],
   "source": []
  }
 ],
 "metadata": {
  "kernelspec": {
   "display_name": "Python 3",
   "language": "python",
   "name": "python3"
  },
  "language_info": {
   "codemirror_mode": {
    "name": "ipython",
    "version": 3
   },
   "file_extension": ".py",
   "mimetype": "text/x-python",
   "name": "python",
   "nbconvert_exporter": "python",
   "pygments_lexer": "ipython3",
   "version": "3.6.9"
  }
 },
 "nbformat": 4,
 "nbformat_minor": 2
}
