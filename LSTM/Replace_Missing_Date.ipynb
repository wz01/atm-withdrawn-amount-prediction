{
 "cells": [
  {
   "cell_type": "code",
   "execution_count": 1,
   "metadata": {},
   "outputs": [],
   "source": [
    "import pandas as pd\n",
    "import numpy as np"
   ]
  },
  {
   "cell_type": "code",
   "execution_count": 5,
   "metadata": {},
   "outputs": [
    {
     "name": "stderr",
     "output_type": "stream",
     "text": [
      "C:\\Users\\LENOVO\\Anaconda3\\envs\\sam\\lib\\site-packages\\ipykernel_launcher.py:17: FutureWarning: how in .resample() is deprecated\n",
      "the new syntax is .resample(...).mean()\n"
     ]
    },
    {
     "data": {
      "text/html": [
       "<div>\n",
       "<style scoped>\n",
       "    .dataframe tbody tr th:only-of-type {\n",
       "        vertical-align: middle;\n",
       "    }\n",
       "\n",
       "    .dataframe tbody tr th {\n",
       "        vertical-align: top;\n",
       "    }\n",
       "\n",
       "    .dataframe thead th {\n",
       "        text-align: right;\n",
       "    }\n",
       "</style>\n",
       "<table border=\"1\" class=\"dataframe\">\n",
       "  <thead>\n",
       "    <tr style=\"text-align: right;\">\n",
       "      <th></th>\n",
       "      <th>TestNumber</th>\n",
       "      <th>dates_machinedown</th>\n",
       "    </tr>\n",
       "    <tr>\n",
       "      <th>Date</th>\n",
       "      <th></th>\n",
       "      <th></th>\n",
       "    </tr>\n",
       "  </thead>\n",
       "  <tbody>\n",
       "    <tr>\n",
       "      <td>2019-09-01</td>\n",
       "      <td>2.0</td>\n",
       "      <td>0</td>\n",
       "    </tr>\n",
       "    <tr>\n",
       "      <td>2019-09-02</td>\n",
       "      <td>5.0</td>\n",
       "      <td>0</td>\n",
       "    </tr>\n",
       "    <tr>\n",
       "      <td>2019-09-03</td>\n",
       "      <td>5.0</td>\n",
       "      <td>0</td>\n",
       "    </tr>\n",
       "    <tr>\n",
       "      <td>2019-09-04</td>\n",
       "      <td>0.0</td>\n",
       "      <td>1</td>\n",
       "    </tr>\n",
       "    <tr>\n",
       "      <td>2019-09-05</td>\n",
       "      <td>1.0</td>\n",
       "      <td>0</td>\n",
       "    </tr>\n",
       "    <tr>\n",
       "      <td>2019-09-06</td>\n",
       "      <td>5.0</td>\n",
       "      <td>0</td>\n",
       "    </tr>\n",
       "    <tr>\n",
       "      <td>2019-09-07</td>\n",
       "      <td>2.0</td>\n",
       "      <td>0</td>\n",
       "    </tr>\n",
       "  </tbody>\n",
       "</table>\n",
       "</div>"
      ],
      "text/plain": [
       "            TestNumber  dates_machinedown\n",
       "Date                                     \n",
       "2019-09-01         2.0                  0\n",
       "2019-09-02         5.0                  0\n",
       "2019-09-03         5.0                  0\n",
       "2019-09-04         0.0                  1\n",
       "2019-09-05         1.0                  0\n",
       "2019-09-06         5.0                  0\n",
       "2019-09-07         2.0                  0"
      ]
     },
     "execution_count": 5,
     "metadata": {},
     "output_type": "execute_result"
    }
   ],
   "source": [
    "date1to3 = pd.DataFrame(data = pd.date_range('2019-09-01','2019-09-03', closed=None), columns = [\"Date\"])\n",
    "date5to7 = pd.DataFrame(data = pd.date_range('2019-09-05','2019-09-07', closed=None), columns = [\"Date\"])\n",
    "\n",
    "date1to3 =date1to3.set_index(\"Date\")\n",
    "date1to3[\"Testdate\"] = date1to3.index\n",
    "\n",
    "date5to7 = date5to7.set_index(\"Date\")\n",
    "date5to7[\"Testdate\"] = date5to7.index\n",
    "\n",
    "date1to3['TestNumber'] = np.random.randint(1, 6, date1to3.shape[0])\n",
    "date5to7['TestNumber'] = np.random.randint(1, 6, date5to7.shape[0])\n",
    "\n",
    "new_datedf = pd.concat([date1to3,date5to7])\n",
    "\n",
    "missing_date = pd.date_range('2019-09-01','2019-09-07').difference(new_datedf.index)\n",
    "\n",
    "new_datedf = new_datedf.resample('D', how='mean')\n",
    "new_datedf[\"dates_machinedown\"] = new_datedf.index.isin(missing_date).astype(int)\n",
    "new_datedf[\"TestNumber\"] = new_datedf[\"TestNumber\"].fillna(0)\n",
    "new_datedf"
   ]
  }
 ],
 "metadata": {
  "kernelspec": {
   "display_name": "Python 3",
   "language": "python",
   "name": "python3"
  },
  "language_info": {
   "codemirror_mode": {
    "name": "ipython",
    "version": 3
   },
   "file_extension": ".py",
   "mimetype": "text/x-python",
   "name": "python",
   "nbconvert_exporter": "python",
   "pygments_lexer": "ipython3",
   "version": "3.7.4"
  }
 },
 "nbformat": 4,
 "nbformat_minor": 2
}
